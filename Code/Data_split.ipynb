{
 "cells": [
  {
   "cell_type": "code",
   "execution_count": 37,
   "metadata": {},
   "outputs": [],
   "source": [
    "import numpy as np\n",
    "from sklearn.model_selection import train_test_split"
   ]
  },
  {
   "cell_type": "code",
   "execution_count": 38,
   "metadata": {},
   "outputs": [],
   "source": [
    "path = '/p/project/training2005/HZG_Challenge/'\n",
    "\n",
    "temperature_data = np.load(path+'tas_train.npy')\n",
    "pressure_data = np.load(path+'psl_train.npy')\n",
    "\n",
    "x = np.concatenate([temperature_data, pressure_data], axis=1)\n",
    "\n",
    "nao_data = np.load(path+'nao_index_train.npy')"
   ]
  },
  {
   "cell_type": "code",
   "execution_count": 39,
   "metadata": {},
   "outputs": [],
   "source": [
    "x_train, x_test, y_train, y_test = train_test_split(x, nao_data, test_size=100, random_state=1337)\n"
   ]
  },
  {
   "cell_type": "code",
   "execution_count": 40,
   "metadata": {},
   "outputs": [
    {
     "name": "stdout",
     "output_type": "stream",
     "text": [
      "(800, 4644)\n",
      "(100, 4644)\n"
     ]
    }
   ],
   "source": [
    "print(x_train.shape)\n",
    "print(x_test.shape)"
   ]
  },
  {
   "cell_type": "code",
   "execution_count": 41,
   "metadata": {},
   "outputs": [
    {
     "name": "stdout",
     "output_type": "stream",
     "text": [
      "[[ 0.51519269  1.13874471  1.33152628 ...  1.58121669  1.64707494\n",
      "   1.71492434]\n",
      " [-0.06682462 -0.46294659 -0.80747449 ... -0.60453928 -0.57841688\n",
      "  -0.55541831]\n",
      " [-0.85686767 -1.24928701 -1.04056776 ...  1.08864331  1.08122003\n",
      "   1.08038592]\n",
      " ...\n",
      " [ 0.66879851  0.97172081  0.92816913 ...  0.17867303  0.23768342\n",
      "   0.30114445]\n",
      " [ 0.89693207  1.0982281   0.86364478 ... -1.85840464 -1.87157297\n",
      "  -1.88732755]\n",
      " [ 0.94255877  0.38637212  0.1401023  ...  1.1697557   1.15213394\n",
      "   1.13781047]]\n"
     ]
    }
   ],
   "source": [
    "### Check some entries #####\n",
    "print(x_train[:10, :])"
   ]
  },
  {
   "cell_type": "code",
   "execution_count": 42,
   "metadata": {},
   "outputs": [],
   "source": [
    "np.save('train_features', x_train)\n",
    "np.save('train_labels', y_train)\n",
    "\n",
    "np.save('test_features', x_test)\n",
    "np.save('test_labels', y_test)"
   ]
  },
  {
   "cell_type": "code",
   "execution_count": null,
   "metadata": {},
   "outputs": [],
   "source": []
  }
 ],
 "metadata": {
  "kernelspec": {
   "display_name": "Python 3",
   "language": "python",
   "name": "python3"
  },
  "language_info": {
   "codemirror_mode": {
    "name": "ipython",
    "version": 3
   },
   "file_extension": ".py",
   "mimetype": "text/x-python",
   "name": "python",
   "nbconvert_exporter": "python",
   "pygments_lexer": "ipython3",
   "version": "3.6.8"
  }
 },
 "nbformat": 4,
 "nbformat_minor": 4
}
