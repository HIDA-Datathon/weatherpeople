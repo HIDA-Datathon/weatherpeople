{
 "cells": [
  {
   "cell_type": "code",
   "execution_count": 95,
   "metadata": {},
   "outputs": [],
   "source": [
    "import numpy as np\n",
    "import tensorflow as tf\n",
    "from tensorflow import keras as K\n",
    "from tensorflow.keras.layers import Conv2D, Dense, Flatten\n",
    "from tensorflow.keras.losses import categorical_crossentropy\n",
    "from tensorflow.keras.optimizers import RMSprop"
   ]
  },
  {
   "cell_type": "code",
   "execution_count": 96,
   "metadata": {},
   "outputs": [],
   "source": [
    "class CNN:\n",
    "    def __init__(self):\n",
    "        pass\n",
    "    \n",
    "    def setup(self, input_shape=(54, 43, 2), n_filters=[10], kernel_size=[[5, 5]], padding='valid', activation='relu', n_neurons=10, activation_dense='relu'):\n",
    "        \n",
    "        Input = K.Input(shape=input_shape)\n",
    "        \n",
    "        tmp = []\n",
    "        tmp.append(Input)\n",
    "        for f in range(len(n_filters)):\n",
    "            conv = Conv2D(filters=n_filters[f], kernel_size=kernel_size[f], padding=padding, activation=activation)(tmp[-1])\n",
    "            tmp.append(conv)\n",
    "        \n",
    "        flat = Flatten()(tmp[-1])\n",
    "        \n",
    "        dense = Dense(n_neurons, activation_dense)(flat)\n",
    "        out = Dense(units=3, activation='softmax')(dense)\n",
    "        \n",
    "        model = K.Model(inputs=Input, outputs=out)\n",
    "        \n",
    "        return model\n",
    "        "
   ]
  },
  {
   "cell_type": "code",
   "execution_count": 97,
   "metadata": {},
   "outputs": [
    {
     "name": "stdout",
     "output_type": "stream",
     "text": [
      "[1. 0. 1. 0. 0.]\n",
      "[[1. 0. 0.]\n",
      " [0. 1. 0.]\n",
      " [1. 0. 0.]\n",
      " [0. 1. 0.]\n",
      " [0. 1. 0.]]\n"
     ]
    }
   ],
   "source": [
    "path = '/p/project/training2005/HZG_Challenge/'\n",
    "\n",
    "temperature_data = np.load(path+'tas_train.npy')\n",
    "pressure_data = np.load(path+'psl_train.npy')\n",
    "\n",
    "\n",
    "x_train_full = np.concatenate([temperature_data, pressure_data], axis=1)\n",
    "\n",
    "\n",
    "nao_data = np.load(path+'nao_index_train.npy')\n",
    "\n",
    "### Categorize NAO into 3 categories #####\n",
    "med_ids = np.where(np.logical_and(-1.5<nao_data, nao_data<1.5))[0]\n",
    "nao_data[nao_data>=1.5] = 1. \n",
    "nao_data[nao_data<=-1.5] = -1.\n",
    "nao_data[med_ids] = 0.\n",
    "\n",
    "### One hot encoding of targets ###\n",
    "one_hot = np.zeros((len(nao_data), 3))\n",
    "one_hot[nao_data==1.] = [1, 0, 0]\n",
    "one_hot[nao_data==-1.] = [0, 0, 1]\n",
    "one_hot[nao_data==0.] = [0, 1, 0]\n",
    "print(nao_data[:5])\n",
    "print(one_hot[:5])\n"
   ]
  },
  {
   "cell_type": "code",
   "execution_count": 98,
   "metadata": {},
   "outputs": [],
   "source": [
    "NN = CNN()"
   ]
  },
  {
   "cell_type": "code",
   "execution_count": 99,
   "metadata": {},
   "outputs": [],
   "source": [
    "temp_data = temperature_data.reshape((temperature_data.shape[0], 54, 43))\n",
    "press_data = pressure_data.reshape((pressure_data.shape[0], 54, 43))"
   ]
  },
  {
   "cell_type": "code",
   "execution_count": 100,
   "metadata": {},
   "outputs": [
    {
     "name": "stdout",
     "output_type": "stream",
     "text": [
      "(900, 54, 43, 2)\n"
     ]
    }
   ],
   "source": [
    "stacked_data = np.array([temp_data, press_data])\n",
    "stacked_data = stacked_data.reshape((stacked_data.shape[1], stacked_data.shape[2], stacked_data.shape[3], stacked_data.shape[0]))\n",
    "print(stacked_data.shape)"
   ]
  },
  {
   "cell_type": "code",
   "execution_count": 101,
   "metadata": {},
   "outputs": [],
   "source": [
    "mod = NN.setup(input_shape=stacked_data.shape[1:])\n"
   ]
  },
  {
   "cell_type": "code",
   "execution_count": 103,
   "metadata": {},
   "outputs": [],
   "source": [
    "mod.compile(loss=categorical_crossentropy, optimizer=RMSprop())"
   ]
  },
  {
   "cell_type": "code",
   "execution_count": null,
   "metadata": {},
   "outputs": [
    {
     "name": "stdout",
     "output_type": "stream",
     "text": [
      "Train on 855 samples, validate on 45 samples\n",
      "WARNING:tensorflow:From /p/software/jusuf/stages/Devel-2019a/software/TensorFlow/1.13.1-GCCcore-8.3.0-GPU-Python-3.6.8/lib/python3.6/site-packages/tensorflow/python/ops/math_ops.py:3066: to_int32 (from tensorflow.python.ops.math_ops) is deprecated and will be removed in a future version.\n",
      "Instructions for updating:\n",
      "Use tf.cast instead.\n",
      "Epoch 1/5\n",
      "855/855 [==============================] - 5s 6ms/sample - loss: 1.0003 - val_loss: 0.7618\n",
      "Epoch 2/5\n",
      "855/855 [==============================] - 3s 3ms/sample - loss: 0.5019 - val_loss: 0.7042\n",
      "Epoch 3/5\n",
      "390/855 [============>.................] - ETA: 1s - loss: 0.4066"
     ]
    }
   ],
   "source": [
    "## train model ####\n",
    "\n",
    "history = mod.fit(stacked_data, one_hot, batch_size=30, epochs=5, validation_split=0.05)"
   ]
  },
  {
   "cell_type": "code",
   "execution_count": null,
   "metadata": {},
   "outputs": [],
   "source": []
  }
 ],
 "metadata": {
  "kernelspec": {
   "display_name": "datathon",
   "language": "python",
   "name": "datathon"
  },
  "language_info": {
   "codemirror_mode": {
    "name": "ipython",
    "version": 3
   },
   "file_extension": ".py",
   "mimetype": "text/x-python",
   "name": "python",
   "nbconvert_exporter": "python",
   "pygments_lexer": "ipython3",
   "version": "3.6.8"
  }
 },
 "nbformat": 4,
 "nbformat_minor": 4
}
