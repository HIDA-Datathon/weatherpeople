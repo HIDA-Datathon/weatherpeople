{
 "cells": [
  {
   "cell_type": "code",
   "execution_count": 1,
   "metadata": {},
   "outputs": [],
   "source": [
    "import numpy as np\n",
    "from sklearn.decomposition import PCA\n",
    "from sklearn.linear_model import LinearRegression\n",
    "from sklearn.model_selection import cross_val_score, train_test_split\n",
    "from sklearn.metrics import accuracy_score"
   ]
  },
  {
   "cell_type": "code",
   "execution_count": 2,
   "metadata": {},
   "outputs": [],
   "source": [
    "def load_data(output_path = '../Data/nao_index_train.npy',\n",
    "              x1_path = '../Data/tas_train.npy',\n",
    "              x2_path = '../Data/psl_train.npy'):\n",
    "    '''\n",
    "    Parameters\n",
    "    ----------\n",
    "    output_path : TYPE, optional\n",
    "        DESCRIPTION. The default is './Data/nao_index_train.npy'.\n",
    "    x1_path : TYPE, optional\n",
    "        DESCRIPTION. The default is './Data/tas_train.npy'.\n",
    "    x2_path : TYPE, optional\n",
    "        DESCRIPTION. The default is './Data/psl_train.npy'.\n",
    "\n",
    "    Returns\n",
    "    -------\n",
    "\n",
    "    x1 : North Atlantic and Tropical Atlantic near surface air temperature, \n",
    "        October-November average (one vector of dimension M1 per year= instance)\n",
    "    x2 : North Atlantic sea-level-pressure, October-November average \n",
    "        (one vector of dimension M2 per instance), Shape(N,M2)\n",
    "    y : North Atlantic Oscillation Index\n",
    "\n",
    "    '''\n",
    "    \n",
    "    y = np.load(output_path)\n",
    "    x1 = np.load(x1_path)\n",
    "    x2 = np.load(x2_path)\n",
    "    return x1, x2, y"
   ]
  },
  {
   "cell_type": "markdown",
   "metadata": {},
   "source": [
    "Reduce dimensions and combine x1 and x2"
   ]
  },
  {
   "cell_type": "code",
   "execution_count": 3,
   "metadata": {},
   "outputs": [],
   "source": [
    "# load data\n",
    "x1, x2, y = load_data()\n",
    "\n",
    "pca = PCA(n_components=50)\n",
    "\n",
    "pca.fit(x1)\n",
    "x1_reduced = pca.transform(x1)\n",
    "\n",
    "pca.fit(x2)\n",
    "x2_reduced = pca.transform(x2)\n",
    "\n",
    "x_combined = np.concatenate((x1_reduced,x2_reduced), axis=1)"
   ]
  },
  {
   "cell_type": "code",
   "execution_count": 4,
   "metadata": {},
   "outputs": [],
   "source": [
    "# Split\n",
    "X_train, X_test, y_train, y_test = train_test_split(x_combined, y, test_size=0.12, random_state=123)\n",
    "\n",
    "#init/fit Lin reg\n",
    "reg = LinearRegression().fit(X_train, y_train)\n",
    "\n",
    "# predict train and test set\n",
    "train_pred = reg.predict(X_train)\n",
    "test_pred = reg.predict(X_test)"
   ]
  },
  {
   "cell_type": "code",
   "execution_count": 5,
   "metadata": {},
   "outputs": [
    {
     "name": "stdout",
     "output_type": "stream",
     "text": [
      "MSE train: 0.868\n",
      "MSE test: 1.059\n",
      "The train accuracy: 0.625\n",
      "The test accuracy: 0.463\n"
     ]
    }
   ],
   "source": [
    "# Compute MSE\n",
    "print('MSE train: %.3f'%np.mean(np.square(train_pred-y_train)))\n",
    "print('MSE test: %.3f'%np.mean(np.square(test_pred-y_test)))\n",
    "\n",
    "#Create binary labels\n",
    "def to_binary(y_in):\n",
    "    y_out = y_in>0\n",
    "    y_out = y_out.astype(float)\n",
    "    return y_out\n",
    "\n",
    "\n",
    "train_pred_bin = to_binary(train_pred)\n",
    "test_pred_bin = to_binary(test_pred)\n",
    "train_y_bin = to_binary(y_train)\n",
    "test_y_bin = to_binary(y_test)\n",
    "\n",
    "print('The train accuracy: %.3f'%accuracy_score(train_pred_bin, train_y_bin))\n",
    "print('The test accuracy: %.3f'%accuracy_score(test_pred_bin, test_y_bin))\n"
   ]
  },
  {
   "cell_type": "code",
   "execution_count": null,
   "metadata": {},
   "outputs": [],
   "source": []
  }
 ],
 "metadata": {
  "kernelspec": {
   "display_name": "Python 3",
   "language": "python",
   "name": "python3"
  },
  "language_info": {
   "codemirror_mode": {
    "name": "ipython",
    "version": 3
   },
   "file_extension": ".py",
   "mimetype": "text/x-python",
   "name": "python",
   "nbconvert_exporter": "python",
   "pygments_lexer": "ipython3",
   "version": "3.6.8"
  }
 },
 "nbformat": 4,
 "nbformat_minor": 4
}
