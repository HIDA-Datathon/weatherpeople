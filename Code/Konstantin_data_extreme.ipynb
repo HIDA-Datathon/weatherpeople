{
 "cells": [
  {
   "cell_type": "code",
   "execution_count": 1,
   "metadata": {},
   "outputs": [
    {
     "name": "stderr",
     "output_type": "stream",
     "text": [
      "/p/software/jusuf/stages/Devel-2019a/software/TensorFlow/1.13.1-GCCcore-8.3.0-GPU-Python-3.6.8/lib/python3.6/site-packages/tensorflow/python/framework/dtypes.py:526: FutureWarning: Passing (type, 1) or '1type' as a synonym of type is deprecated; in a future version of numpy, it will be understood as (type, (1,)) / '(1,)type'.\n",
      "  _np_qint8 = np.dtype([(\"qint8\", np.int8, 1)])\n",
      "/p/software/jusuf/stages/Devel-2019a/software/TensorFlow/1.13.1-GCCcore-8.3.0-GPU-Python-3.6.8/lib/python3.6/site-packages/tensorflow/python/framework/dtypes.py:527: FutureWarning: Passing (type, 1) or '1type' as a synonym of type is deprecated; in a future version of numpy, it will be understood as (type, (1,)) / '(1,)type'.\n",
      "  _np_quint8 = np.dtype([(\"quint8\", np.uint8, 1)])\n",
      "/p/software/jusuf/stages/Devel-2019a/software/TensorFlow/1.13.1-GCCcore-8.3.0-GPU-Python-3.6.8/lib/python3.6/site-packages/tensorflow/python/framework/dtypes.py:528: FutureWarning: Passing (type, 1) or '1type' as a synonym of type is deprecated; in a future version of numpy, it will be understood as (type, (1,)) / '(1,)type'.\n",
      "  _np_qint16 = np.dtype([(\"qint16\", np.int16, 1)])\n",
      "/p/software/jusuf/stages/Devel-2019a/software/TensorFlow/1.13.1-GCCcore-8.3.0-GPU-Python-3.6.8/lib/python3.6/site-packages/tensorflow/python/framework/dtypes.py:529: FutureWarning: Passing (type, 1) or '1type' as a synonym of type is deprecated; in a future version of numpy, it will be understood as (type, (1,)) / '(1,)type'.\n",
      "  _np_quint16 = np.dtype([(\"quint16\", np.uint16, 1)])\n",
      "/p/software/jusuf/stages/Devel-2019a/software/TensorFlow/1.13.1-GCCcore-8.3.0-GPU-Python-3.6.8/lib/python3.6/site-packages/tensorflow/python/framework/dtypes.py:530: FutureWarning: Passing (type, 1) or '1type' as a synonym of type is deprecated; in a future version of numpy, it will be understood as (type, (1,)) / '(1,)type'.\n",
      "  _np_qint32 = np.dtype([(\"qint32\", np.int32, 1)])\n",
      "/p/software/jusuf/stages/Devel-2019a/software/TensorFlow/1.13.1-GCCcore-8.3.0-GPU-Python-3.6.8/lib/python3.6/site-packages/tensorflow/python/framework/dtypes.py:535: FutureWarning: Passing (type, 1) or '1type' as a synonym of type is deprecated; in a future version of numpy, it will be understood as (type, (1,)) / '(1,)type'.\n",
      "  np_resource = np.dtype([(\"resource\", np.ubyte, 1)])\n"
     ]
    }
   ],
   "source": [
    "import numpy as np\n",
    "from sklearn.decomposition import PCA\n",
    "from pathlib import Path\n",
    "import pandas as pd\n",
    "from sklearn.preprocessing import KBinsDiscretizer\n",
    "from sklearn.model_selection import train_test_split\n",
    "import matplotlib\n",
    "import tensorflow as tf\n",
    "from tensorflow import keras as K\n",
    "from tensorflow.keras.layers import Conv2D, Dense, Flatten\n",
    "from tensorflow.keras.losses import categorical_crossentropy\n",
    "from tensorflow.keras.optimizers import RMSprop"
   ]
  },
  {
   "cell_type": "code",
   "execution_count": 2,
   "metadata": {},
   "outputs": [],
   "source": [
    "y_path = Path.cwd().parent.joinpath(\"Data\",\"Split\",\"train_labels.npy\")\n",
    "x_path = Path.cwd().parent.joinpath(\"Data\",\"Split\",\"train_features.npy\")\n",
    "x_test_path = Path.cwd().parent.joinpath(\"Data\",\"Split\",\"test_features.npy\")\n",
    "y_test_path = Path.cwd().parent.joinpath(\"Data\",\"Split\",\"test_labels.npy\")\n",
    "\n",
    "y_train = np.load(y_path)\n",
    "x_train = np.load(x_path)\n",
    "y_test = np.load(y_test_path)\n",
    "x_test = np.load(x_test_path)"
   ]
  },
  {
   "cell_type": "code",
   "execution_count": 3,
   "metadata": {},
   "outputs": [],
   "source": [
    "y_full = np.concatenate((y_train,y_test),axis=0)\n",
    "x_full = np.vstack((x_train,x_test))"
   ]
  },
  {
   "cell_type": "code",
   "execution_count": 4,
   "metadata": {},
   "outputs": [],
   "source": [
    "#Load data for CNN\n",
    "path = '/p/project/training2005/HZG_Challenge/'\n",
    "\n",
    "temperature_data = np.load(path+'tas_train.npy')\n",
    "pressure_data = np.load(path+'psl_train.npy')\n",
    "\n",
    "temp_new = np.load(path+'tas_predict.npy')\n",
    "pressure_new = np.load(path+'psl_predict.npy')\n",
    "\n",
    "x_train_full = np.concatenate([temperature_data, pressure_data], axis=1)\n",
    "\n",
    "x_new = np.concatenate([temp_new, pressure_new], axis=1)\n",
    "\n",
    "\n",
    "nao_data = np.load(path+'nao_index_train.npy')"
   ]
  },
  {
   "cell_type": "code",
   "execution_count": 5,
   "metadata": {},
   "outputs": [
    {
     "name": "stderr",
     "output_type": "stream",
     "text": [
      "Using TensorFlow backend.\n"
     ]
    }
   ],
   "source": [
    "from keras.utils import to_categorical\n",
    "quant_down = np.quantile(nao_data,q=0.25)\n",
    "quant_up = np.quantile(nao_data,q=0.75)\n",
    "inds_no_extr = np.where(np.logical_and(quant_down<nao_data, nao_data<quant_up))[0]\n",
    "inds_extr = np.where(np.logical_or(quant_down>nao_data, nao_data>quant_up))[0]\n",
    "y_trim = nao_data[inds_extr]\n",
    "y_train = np.sign(y_trim)\n",
    "one_hot = np.zeros((len(y_train),2))\n",
    "one_hot[y_train==1.] = [1, 0]\n",
    "one_hot[y_train==-1.] = [0, 1]\n",
    "\n",
    "#same for non extreme\n",
    "\n",
    "y_trim_val = nao_data[inds_no_extr]\n",
    "y_train_val = np.sign(y_trim_val)\n",
    "one_hot_val = np.zeros((len(y_train_val),2))\n",
    "one_hot_val[y_train_val==1.] = [1, 0]\n",
    "one_hot_val[y_train_val==-1.] = [0, 1]\n",
    "\n",
    "#same for all\n",
    "y_train_all = np.sign(nao_data)\n",
    "one_hot_all = np.zeros((len(y_train_all),2))\n",
    "one_hot_all[y_train_all==1.] = [1, 0]\n",
    "one_hot_all[y_train_all==-1.] = [0, 1]\n"
   ]
  },
  {
   "cell_type": "code",
   "execution_count": 6,
   "metadata": {},
   "outputs": [
    {
     "data": {
      "text/plain": [
       "(450,)"
      ]
     },
     "execution_count": 6,
     "metadata": {},
     "output_type": "execute_result"
    }
   ],
   "source": [
    "np.shape(inds_extr)"
   ]
  },
  {
   "cell_type": "code",
   "execution_count": 7,
   "metadata": {},
   "outputs": [],
   "source": [
    "#trim x too\n",
    "x_trim = x_train_full[inds_extr,]\n",
    "temperature_data_trim = temperature_data[inds_extr,]\n",
    "pressure_data_trim = pressure_data[inds_extr,]"
   ]
  },
  {
   "cell_type": "code",
   "execution_count": 8,
   "metadata": {},
   "outputs": [],
   "source": [
    "#Take data that was not extreme (and thus not predicted as benchmark)\n",
    "temperature_data_val = temperature_data[inds_no_extr,]\n",
    "pressure_data_val = pressure_data[inds_no_extr,]"
   ]
  },
  {
   "cell_type": "code",
   "execution_count": 9,
   "metadata": {},
   "outputs": [
    {
     "data": {
      "text/plain": [
       "(900, 2322)"
      ]
     },
     "execution_count": 9,
     "metadata": {},
     "output_type": "execute_result"
    }
   ],
   "source": [
    "pd.DataFrame(y_train).describe()\n",
    "pd.DataFrame(y_test).describe()\n",
    "np.shape(temperature_data)\n",
    "#matplotlib.pyplot.plot(pd.DataFrame(y_train).hist())"
   ]
  },
  {
   "cell_type": "code",
   "execution_count": 10,
   "metadata": {},
   "outputs": [
    {
     "name": "stdout",
     "output_type": "stream",
     "text": [
      "(100, 54, 43, 2)\n"
     ]
    }
   ],
   "source": [
    "#reshape test data\n",
    "temp_cnn_new = temp_new.reshape((temp_new.shape[0], 54, 43))\n",
    "press_cnn_new = pressure_new.reshape((pressure_new.shape[0], 54, 43))\n",
    "stacked_predict = np.array([temp_cnn_new, press_cnn_new])\n",
    "stacked_predict = stacked_predict.reshape((stacked_predict.shape[1], stacked_predict.shape[2], stacked_predict.shape[3], stacked_predict.shape[0]))\n",
    "print(stacked_predict.shape)"
   ]
  },
  {
   "cell_type": "code",
   "execution_count": 11,
   "metadata": {},
   "outputs": [
    {
     "name": "stdout",
     "output_type": "stream",
     "text": [
      "(450, 54, 43, 2)\n"
     ]
    }
   ],
   "source": [
    "#Reshape Data for validation\n",
    "temp_data_val = temperature_data_val.reshape((temperature_data_val.shape[0], 54, 43))\n",
    "press_data_val = pressure_data_val.reshape((pressure_data_val.shape[0], 54, 43))\n",
    "\n",
    "stacked_data_val = np.array([temp_data_val, press_data_val])\n",
    "stacked_data_val = stacked_data_val.reshape((stacked_data_val.shape[1], stacked_data_val.shape[2], stacked_data_val.shape[3], stacked_data_val.shape[0]))\n",
    "print(stacked_data_val.shape)"
   ]
  },
  {
   "cell_type": "code",
   "execution_count": 13,
   "metadata": {},
   "outputs": [
    {
     "name": "stdout",
     "output_type": "stream",
     "text": [
      "(900, 54, 43, 2)\n"
     ]
    }
   ],
   "source": [
    "#Reshape Data for CNN\n",
    "temp_data_train = temperature_data_trim.reshape((temperature_data_trim.shape[0], 54, 43))\n",
    "press_data_train = pressure_data_trim.reshape((pressure_data_trim.shape[0], 54, 43))\n",
    "\n",
    "stacked_data_train = np.array([temp_data_train, press_data_train])\n",
    "stacked_data_train = stacked_data_train.reshape((stacked_data_train.shape[1], stacked_data_train.shape[2], stacked_data_train.shape[3], stacked_data_train.shape[0]))\n",
    "\n",
    "#for all data\n",
    "temp_data = temperature_data.reshape((temperature_data.shape[0], 54, 43))\n",
    "press_data = pressure_data.reshape((pressure_data.shape[0], 54, 43))\n",
    "\n",
    "stacked_data = np.array([temp_data, press_data])\n",
    "stacked_data = stacked_data.reshape((stacked_data.shape[1], stacked_data.shape[2], stacked_data.shape[3], stacked_data.shape[0]))\n",
    "print(stacked_data.shape)"
   ]
  },
  {
   "cell_type": "code",
   "execution_count": null,
   "metadata": {},
   "outputs": [],
   "source": [
    "#generate test data\n",
    "pressure_data_trim"
   ]
  },
  {
   "cell_type": "code",
   "execution_count": 15,
   "metadata": {},
   "outputs": [],
   "source": [
    "# model simple CNN\n",
    "class CNN:\n",
    "    def __init__(self):\n",
    "        pass\n",
    "    \n",
    "    def setup(self, input_shape=(54, 43, 2), n_filters=[10], kernel_size=[[5, 5]], padding='valid', activation='relu', n_neurons=10, activation_dense='relu'):\n",
    "        \n",
    "        Input = K.Input(shape=input_shape)\n",
    "        \n",
    "        tmp = []\n",
    "        tmp.append(Input)\n",
    "        for f in range(len(n_filters)):\n",
    "            conv = Conv2D(filters=n_filters[f], kernel_size=kernel_size[f], padding=padding, activation=activation)(tmp[-1])\n",
    "            tmp.append(conv)\n",
    "        \n",
    "        flat = Flatten()(tmp[-1])\n",
    "        \n",
    "        dense = Dense(n_neurons, activation_dense)(flat)\n",
    "        out = Dense(units=2, activation='softmax')(dense)\n",
    "        \n",
    "        model = K.Model(inputs=Input, outputs=out)\n",
    "        \n",
    "        return model\n",
    "        "
   ]
  },
  {
   "cell_type": "code",
   "execution_count": 16,
   "metadata": {},
   "outputs": [
    {
     "name": "stdout",
     "output_type": "stream",
     "text": [
      "WARNING:tensorflow:From /p/software/jusuf/stages/Devel-2019a/software/TensorFlow/1.13.1-GCCcore-8.3.0-GPU-Python-3.6.8/lib/python3.6/site-packages/tensorflow/python/ops/resource_variable_ops.py:435: colocate_with (from tensorflow.python.framework.ops) is deprecated and will be removed in a future version.\n",
      "Instructions for updating:\n",
      "Colocations handled automatically by placer.\n"
     ]
    }
   ],
   "source": [
    "NN=CNN()\n",
    "mod = NN.setup(input_shape=stacked_data.shape[1:])\n",
    "mod.compile(loss=categorical_crossentropy, optimizer=RMSprop(),metrics=[\"accuracy\"])"
   ]
  },
  {
   "cell_type": "code",
   "execution_count": 19,
   "metadata": {},
   "outputs": [
    {
     "name": "stdout",
     "output_type": "stream",
     "text": [
      "Train on 882 samples, validate on 18 samples\n",
      "Epoch 1/5\n",
      "882/882 [==============================] - 3s 3ms/sample - loss: 0.6625 - acc: 0.5816 - val_loss: 0.6604 - val_acc: 0.7222\n",
      "Epoch 2/5\n",
      "882/882 [==============================] - 2s 2ms/sample - loss: 0.6513 - acc: 0.5839 - val_loss: 0.6672 - val_acc: 0.6667\n",
      "Epoch 3/5\n",
      "882/882 [==============================] - 2s 2ms/sample - loss: 0.6259 - acc: 0.6054 - val_loss: 0.6937 - val_acc: 0.7222\n",
      "Epoch 4/5\n",
      "882/882 [==============================] - 2s 2ms/sample - loss: 0.6161 - acc: 0.6236 - val_loss: 0.7429 - val_acc: 0.6667\n",
      "Epoch 5/5\n",
      "882/882 [==============================] - 3s 4ms/sample - loss: 0.5824 - acc: 0.6429 - val_loss: 0.7657 - val_acc: 0.6667\n"
     ]
    }
   ],
   "source": [
    "history = mod.fit(stacked_data, one_hot_all, batch_size=20, epochs=5, validation_split=0.02)"
   ]
  },
  {
   "cell_type": "code",
   "execution_count": 20,
   "metadata": {},
   "outputs": [],
   "source": [
    "from sklearn.model_selection import cross_val_score\n",
    "from sklearn.metrics import f1_score\n",
    "from sklearn.metrics import make_scorer\n",
    "from sklearn.model_selection import KFold"
   ]
  },
  {
   "cell_type": "code",
   "execution_count": 24,
   "metadata": {},
   "outputs": [],
   "source": [
    "num_folds = 10\n",
    "kfold = KFold(n_splits=10,random_state=1337,shuffle=True)\n",
    "acc_per_fold = []\n",
    "loss_per_fold = []"
   ]
  },
  {
   "cell_type": "code",
   "execution_count": 25,
   "metadata": {},
   "outputs": [
    {
     "name": "stdout",
     "output_type": "stream",
     "text": [
      "Train on 364 samples, validate on 41 samples\n",
      "Epoch 1/5\n",
      "364/364 [==============================] - 2s 5ms/sample - loss: 0.9807 - acc: 0.4505 - val_loss: 0.6925 - val_acc: 0.6098\n",
      "Epoch 2/5\n",
      "364/364 [==============================] - 1s 2ms/sample - loss: 0.8199 - acc: 0.5220 - val_loss: 0.6922 - val_acc: 0.6098\n",
      "Epoch 3/5\n",
      "364/364 [==============================] - 1s 2ms/sample - loss: 0.6773 - acc: 0.5275 - val_loss: 0.7450 - val_acc: 0.6098\n",
      "Epoch 4/5\n",
      "364/364 [==============================] - 1s 3ms/sample - loss: 0.6826 - acc: 0.5275 - val_loss: 0.6931 - val_acc: 0.6098\n",
      "Epoch 5/5\n",
      "364/364 [==============================] - 1s 4ms/sample - loss: 0.6699 - acc: 0.5385 - val_loss: 0.7208 - val_acc: 0.4634\n",
      "Score for fold 1: loss of 0.7782579700152079; acc of 40.00000059604645%\n",
      "Train on 364 samples, validate on 41 samples\n",
      "Epoch 1/5\n",
      "364/364 [==============================] - 1s 4ms/sample - loss: 0.9653 - acc: 0.5165 - val_loss: 0.8654 - val_acc: 0.4390\n",
      "Epoch 2/5\n",
      "364/364 [==============================] - 1s 2ms/sample - loss: 0.6997 - acc: 0.5577 - val_loss: 0.7265 - val_acc: 0.4878\n",
      "Epoch 3/5\n",
      "364/364 [==============================] - 1s 2ms/sample - loss: 0.6808 - acc: 0.5824 - val_loss: 0.7002 - val_acc: 0.5122\n",
      "Epoch 4/5\n",
      "364/364 [==============================] - 1s 2ms/sample - loss: 0.6460 - acc: 0.6181 - val_loss: 0.8908 - val_acc: 0.3902\n",
      "Epoch 5/5\n",
      "364/364 [==============================] - 1s 3ms/sample - loss: 0.6622 - acc: 0.6484 - val_loss: 1.0394 - val_acc: 0.3415\n",
      "Score for fold 2: loss of 0.9614929702546862; acc of 53.33333611488342%\n",
      "Train on 364 samples, validate on 41 samples\n",
      "Epoch 1/5\n",
      "364/364 [==============================] - 2s 5ms/sample - loss: 0.9649 - acc: 0.4945 - val_loss: 0.6919 - val_acc: 0.6341\n",
      "Epoch 2/5\n",
      "364/364 [==============================] - 1s 3ms/sample - loss: 0.6890 - acc: 0.5247 - val_loss: 0.6900 - val_acc: 0.6341\n",
      "Epoch 3/5\n",
      "364/364 [==============================] - 1s 4ms/sample - loss: 0.7454 - acc: 0.5440 - val_loss: 0.7013 - val_acc: 0.4390\n",
      "Epoch 4/5\n",
      "364/364 [==============================] - 1s 3ms/sample - loss: 0.6704 - acc: 0.5742 - val_loss: 0.7099 - val_acc: 0.4390\n",
      "Epoch 5/5\n",
      "364/364 [==============================] - 1s 2ms/sample - loss: 0.6531 - acc: 0.5989 - val_loss: 0.7505 - val_acc: 0.4146\n",
      "Score for fold 3: loss of 0.7287442803382873; acc of 51.11111402511597%\n",
      "Train on 364 samples, validate on 41 samples\n",
      "Epoch 1/5\n",
      "364/364 [==============================] - 2s 4ms/sample - loss: 1.0002 - acc: 0.4725 - val_loss: 0.6941 - val_acc: 0.3659\n",
      "Epoch 2/5\n",
      "364/364 [==============================] - 1s 2ms/sample - loss: 0.7024 - acc: 0.5577 - val_loss: 0.6947 - val_acc: 0.3659\n",
      "Epoch 3/5\n",
      "364/364 [==============================] - 1s 2ms/sample - loss: 0.6841 - acc: 0.5577 - val_loss: 0.7559 - val_acc: 0.3171\n",
      "Epoch 4/5\n",
      "364/364 [==============================] - 1s 4ms/sample - loss: 0.6551 - acc: 0.5907 - val_loss: 1.0152 - val_acc: 0.3659\n",
      "Epoch 5/5\n",
      "364/364 [==============================] - 1s 3ms/sample - loss: 0.5876 - acc: 0.6731 - val_loss: 0.7724 - val_acc: 0.5610\n",
      "Score for fold 4: loss of 0.7571892552905612; acc of 55.55555820465088%\n",
      "Train on 364 samples, validate on 41 samples\n",
      "Epoch 1/5\n",
      "364/364 [==============================] - 1s 4ms/sample - loss: 1.0166 - acc: 0.4863 - val_loss: 0.9524 - val_acc: 0.3902\n",
      "Epoch 2/5\n",
      "364/364 [==============================] - 1s 2ms/sample - loss: 0.6542 - acc: 0.6209 - val_loss: 0.8006 - val_acc: 0.5610\n",
      "Epoch 3/5\n",
      "364/364 [==============================] - 1s 2ms/sample - loss: 0.5692 - acc: 0.6758 - val_loss: 0.7627 - val_acc: 0.5366\n",
      "Epoch 4/5\n",
      "364/364 [==============================] - 1s 2ms/sample - loss: 0.5289 - acc: 0.7473 - val_loss: 0.7888 - val_acc: 0.5854\n",
      "Epoch 5/5\n",
      "364/364 [==============================] - 1s 2ms/sample - loss: 0.4476 - acc: 0.8077 - val_loss: 0.8051 - val_acc: 0.6341\n",
      "Score for fold 5: loss of 0.7994131220711602; acc of 55.55555820465088%\n",
      "Train on 364 samples, validate on 41 samples\n",
      "Epoch 1/5\n",
      "364/364 [==============================] - 1s 4ms/sample - loss: 0.8613 - acc: 0.5000 - val_loss: 0.6925 - val_acc: 0.6829\n",
      "Epoch 2/5\n",
      "364/364 [==============================] - 1s 2ms/sample - loss: 0.6929 - acc: 0.5467 - val_loss: 0.6684 - val_acc: 0.6829\n",
      "Epoch 3/5\n",
      "364/364 [==============================] - 1s 3ms/sample - loss: 0.6712 - acc: 0.5604 - val_loss: 0.6617 - val_acc: 0.5854\n",
      "Epoch 4/5\n",
      "364/364 [==============================] - 1s 3ms/sample - loss: 0.6512 - acc: 0.5852 - val_loss: 0.8038 - val_acc: 0.3171\n",
      "Epoch 5/5\n",
      "364/364 [==============================] - 1s 2ms/sample - loss: 0.5996 - acc: 0.6841 - val_loss: 0.8322 - val_acc: 0.3902\n",
      "Score for fold 6: loss of 0.6197706699371338; acc of 57.777780294418335%\n",
      "Train on 364 samples, validate on 41 samples\n",
      "Epoch 1/5\n",
      "364/364 [==============================] - 2s 4ms/sample - loss: 1.0849 - acc: 0.5027 - val_loss: 0.6917 - val_acc: 0.6585\n",
      "Epoch 2/5\n",
      "364/364 [==============================] - 1s 3ms/sample - loss: 0.6933 - acc: 0.5467 - val_loss: 0.6888 - val_acc: 0.6585\n",
      "Epoch 3/5\n",
      "364/364 [==============================] - 1s 3ms/sample - loss: 0.6697 - acc: 0.5467 - val_loss: 0.6908 - val_acc: 0.6585\n",
      "Epoch 4/5\n",
      "364/364 [==============================] - 1s 3ms/sample - loss: 0.6732 - acc: 0.5467 - val_loss: 0.7176 - val_acc: 0.6585\n",
      "Epoch 5/5\n",
      "364/364 [==============================] - 1s 2ms/sample - loss: 0.6501 - acc: 0.5467 - val_loss: 0.7012 - val_acc: 0.6585\n",
      "Score for fold 7: loss of 0.68484595351749; acc of 40.00000059604645%\n",
      "Train on 364 samples, validate on 41 samples\n",
      "Epoch 1/5\n",
      "364/364 [==============================] - 1s 3ms/sample - loss: 8.3548 - acc: 0.4505 - val_loss: 9.4350 - val_acc: 0.4146\n",
      "Epoch 2/5\n",
      "364/364 [==============================] - 1s 3ms/sample - loss: 3.8227 - acc: 0.5302 - val_loss: 1.1082 - val_acc: 0.5854\n",
      "Epoch 3/5\n",
      "364/364 [==============================] - 1s 2ms/sample - loss: 0.7097 - acc: 0.5852 - val_loss: 0.7554 - val_acc: 0.4390\n",
      "Epoch 4/5\n",
      "364/364 [==============================] - 1s 2ms/sample - loss: 0.6344 - acc: 0.6841 - val_loss: 0.8004 - val_acc: 0.6098\n",
      "Epoch 5/5\n",
      "364/364 [==============================] - 1s 3ms/sample - loss: 0.5625 - acc: 0.7253 - val_loss: 0.9071 - val_acc: 0.5854\n",
      "Score for fold 8: loss of 0.9142920653025309; acc of 46.666666865348816%\n",
      "Train on 364 samples, validate on 41 samples\n",
      "Epoch 1/5\n",
      "364/364 [==============================] - 2s 5ms/sample - loss: 0.8126 - acc: 0.4945 - val_loss: 0.6919 - val_acc: 0.6341\n",
      "Epoch 2/5\n",
      "364/364 [==============================] - 1s 1ms/sample - loss: 0.6929 - acc: 0.5275 - val_loss: 0.6907 - val_acc: 0.6341\n",
      "Epoch 3/5\n",
      "364/364 [==============================] - 0s 1ms/sample - loss: 0.6927 - acc: 0.5275 - val_loss: 0.6899 - val_acc: 0.6341\n",
      "Epoch 4/5\n",
      "364/364 [==============================] - 1s 2ms/sample - loss: 0.6926 - acc: 0.5275 - val_loss: 0.6890 - val_acc: 0.6341\n",
      "Epoch 5/5\n",
      "364/364 [==============================] - 1s 3ms/sample - loss: 0.6924 - acc: 0.5275 - val_loss: 0.6888 - val_acc: 0.6341\n",
      "Score for fold 9: loss of 0.6906964235835605; acc of 57.777780294418335%\n",
      "Train on 364 samples, validate on 41 samples\n",
      "Epoch 1/5\n",
      "364/364 [==============================] - 1s 4ms/sample - loss: 0.8334 - acc: 0.5082 - val_loss: 0.6925 - val_acc: 0.4146\n",
      "Epoch 2/5\n",
      "364/364 [==============================] - 1s 1ms/sample - loss: 0.6854 - acc: 0.5412 - val_loss: 0.6811 - val_acc: 0.5854\n",
      "Epoch 3/5\n",
      "364/364 [==============================] - 1s 2ms/sample - loss: 0.6737 - acc: 0.5742 - val_loss: 0.7065 - val_acc: 0.5610\n",
      "Epoch 4/5\n",
      "364/364 [==============================] - 1s 3ms/sample - loss: 0.6495 - acc: 0.6209 - val_loss: 0.7497 - val_acc: 0.5854\n",
      "Epoch 5/5\n",
      "364/364 [==============================] - 1s 3ms/sample - loss: 0.6181 - acc: 0.6346 - val_loss: 0.7830 - val_acc: 0.5366\n",
      "Score for fold 10: loss of 0.739323721991645; acc of 57.777780294418335%\n"
     ]
    }
   ],
   "source": [
    "fold_no = 1\n",
    "for train, test in kfold.split(stacked_data_train, one_hot):\n",
    "    NN=CNN()\n",
    "    mod = NN.setup(input_shape=stacked_data.shape[1:])\n",
    "    mod.compile(loss=categorical_crossentropy, optimizer=RMSprop(),metrics=[\"accuracy\"])\n",
    "    history = mod.fit(stacked_data[train], one_hot_all[train], batch_size=20, epochs=5, validation_split=0.1)\n",
    "    \n",
    "    scores = mod.evaluate(stacked_data[test], one_hot_all[test], verbose=0)\n",
    "    print(f'Score for fold {fold_no}: {mod.metrics_names[0]} of {scores[0]}; {mod.metrics_names[1]} of {scores[1]*100}%')\n",
    "    acc_per_fold.append(scores[1] * 100)\n",
    "    loss_per_fold.append(scores[0])\n",
    "\n",
    "    # Increase fold number\n",
    "    fold_no = fold_no + 1"
   ]
  },
  {
   "cell_type": "code",
   "execution_count": 26,
   "metadata": {},
   "outputs": [
    {
     "name": "stdout",
     "output_type": "stream",
     "text": [
      "------------------------------------------------------------------------\n",
      "Score per fold\n",
      "------------------------------------------------------------------------\n",
      "> Fold 1 - Loss: 0.7782579700152079 - Accuracy: 40.00000059604645%\n",
      "------------------------------------------------------------------------\n",
      "> Fold 2 - Loss: 0.9614929702546862 - Accuracy: 53.33333611488342%\n",
      "------------------------------------------------------------------------\n",
      "> Fold 3 - Loss: 0.7287442803382873 - Accuracy: 51.11111402511597%\n",
      "------------------------------------------------------------------------\n",
      "> Fold 4 - Loss: 0.7571892552905612 - Accuracy: 55.55555820465088%\n",
      "------------------------------------------------------------------------\n",
      "> Fold 5 - Loss: 0.7994131220711602 - Accuracy: 55.55555820465088%\n",
      "------------------------------------------------------------------------\n",
      "> Fold 6 - Loss: 0.6197706699371338 - Accuracy: 57.777780294418335%\n",
      "------------------------------------------------------------------------\n",
      "> Fold 7 - Loss: 0.68484595351749 - Accuracy: 40.00000059604645%\n",
      "------------------------------------------------------------------------\n",
      "> Fold 8 - Loss: 0.9142920653025309 - Accuracy: 46.666666865348816%\n",
      "------------------------------------------------------------------------\n",
      "> Fold 9 - Loss: 0.6906964235835605 - Accuracy: 57.777780294418335%\n",
      "------------------------------------------------------------------------\n",
      "> Fold 10 - Loss: 0.739323721991645 - Accuracy: 57.777780294418335%\n",
      "------------------------------------------------------------------------\n",
      "Average scores for all folds:\n",
      "> Accuracy: 51.555557548999786 (+- 6.6518362122729195)\n",
      "> Loss: 0.7674026432302263\n",
      "------------------------------------------------------------------------\n"
     ]
    }
   ],
   "source": [
    "# == Provide average scores ==\n",
    "print('------------------------------------------------------------------------')\n",
    "print('Score per fold')\n",
    "for i in range(0, len(acc_per_fold)):\n",
    "  print('------------------------------------------------------------------------')\n",
    "  print(f'> Fold {i+1} - Loss: {loss_per_fold[i]} - Accuracy: {acc_per_fold[i]}%')\n",
    "print('------------------------------------------------------------------------')\n",
    "print('Average scores for all folds:')\n",
    "print(f'> Accuracy: {np.mean(acc_per_fold)} (+- {np.std(acc_per_fold)})')\n",
    "print(f'> Loss: {np.mean(loss_per_fold)}')\n",
    "print('------------------------------------------------------------------------')"
   ]
  },
  {
   "cell_type": "code",
   "execution_count": 106,
   "metadata": {},
   "outputs": [],
   "source": [
    "#How does it generalize?\n",
    "#score = model.evaluate(input_test, target_test, verbose=0)\n",
    "predictions= mod.predict(stacked_predict)\n",
    "final_predictions_extr = np.argmax(predictions, axis = 1)"
   ]
  },
  {
   "cell_type": "code",
   "execution_count": 76,
   "metadata": {},
   "outputs": [
    {
     "data": {
      "text/plain": [
       "array([0, 0, 0, 0, 0, 1, 0, 0, 0, 0, 0, 1, 0, 0, 1, 0, 0, 1, 1, 0, 0, 0,\n",
       "       0, 1, 1, 1, 1, 0, 0, 0, 0, 0, 1, 0, 0, 1, 0, 1, 1, 0, 0, 0, 0, 0,\n",
       "       0, 1, 0, 1, 0, 0, 0, 1, 0, 1, 0, 0, 0, 0, 0, 0, 1, 0, 1, 0, 0, 0,\n",
       "       0, 0, 0, 0, 0, 0, 0, 0, 0, 0, 0, 1, 0, 0, 0, 1, 0, 0, 0, 0, 1, 0,\n",
       "       0, 0, 0, 0, 1, 0, 1, 0, 0, 0, 0, 0])"
      ]
     },
     "execution_count": 76,
     "metadata": {},
     "output_type": "execute_result"
    }
   ],
   "source": [
    "final_predictions"
   ]
  },
  {
   "cell_type": "code",
   "execution_count": 107,
   "metadata": {},
   "outputs": [
    {
     "data": {
      "text/plain": [
       "array([1, 1, 1, 1, 1, 1, 1, 1, 1, 1, 1, 1, 1, 1, 1, 1, 1, 1, 1, 1, 1, 1,\n",
       "       1, 1, 1, 1, 1, 1, 1, 1, 1, 1, 1, 1, 1, 1, 1, 1, 1, 1, 1, 1, 1, 1,\n",
       "       0, 1, 1, 1, 1, 1, 1, 1, 1, 1, 1, 1, 1, 1, 1, 1, 1, 1, 1, 1, 1, 0,\n",
       "       1, 1, 1, 1, 1, 1, 1, 1, 1, 1, 1, 1, 1, 0, 1, 1, 1, 1, 1, 1, 1, 1,\n",
       "       1, 1, 1, 1, 1, 1, 1, 1, 1, 1, 1, 1])"
      ]
     },
     "execution_count": 107,
     "metadata": {},
     "output_type": "execute_result"
    }
   ],
   "source": [
    "final_predictions_extr"
   ]
  },
  {
   "cell_type": "code",
   "execution_count": 113,
   "metadata": {},
   "outputs": [],
   "source": [
    "score_eval = mod.evaluate(stacked_data, one_hot, verbose=0)"
   ]
  },
  {
   "cell_type": "code",
   "execution_count": 114,
   "metadata": {},
   "outputs": [
    {
     "data": {
      "text/plain": [
       "[0.6958862484825982, 0.53333336]"
      ]
     },
     "execution_count": 114,
     "metadata": {},
     "output_type": "execute_result"
    }
   ],
   "source": [
    "score_eval"
   ]
  },
  {
   "cell_type": "code",
   "execution_count": null,
   "metadata": {},
   "outputs": [],
   "source": []
  }
 ],
 "metadata": {
  "kernelspec": {
   "display_name": "datathon",
   "language": "python",
   "name": "datathon"
  },
  "language_info": {
   "codemirror_mode": {
    "name": "ipython",
    "version": 3
   },
   "file_extension": ".py",
   "mimetype": "text/x-python",
   "name": "python",
   "nbconvert_exporter": "python",
   "pygments_lexer": "ipython3",
   "version": "3.6.8"
  }
 },
 "nbformat": 4,
 "nbformat_minor": 4
}
