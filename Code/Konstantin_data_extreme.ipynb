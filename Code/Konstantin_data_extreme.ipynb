{
 "cells": [
  {
   "cell_type": "code",
   "execution_count": 1,
   "metadata": {},
   "outputs": [
    {
     "name": "stderr",
     "output_type": "stream",
     "text": [
      "/p/software/jusuf/stages/Devel-2019a/software/TensorFlow/1.13.1-GCCcore-8.3.0-GPU-Python-3.6.8/lib/python3.6/site-packages/tensorflow/python/framework/dtypes.py:526: FutureWarning: Passing (type, 1) or '1type' as a synonym of type is deprecated; in a future version of numpy, it will be understood as (type, (1,)) / '(1,)type'.\n",
      "  _np_qint8 = np.dtype([(\"qint8\", np.int8, 1)])\n",
      "/p/software/jusuf/stages/Devel-2019a/software/TensorFlow/1.13.1-GCCcore-8.3.0-GPU-Python-3.6.8/lib/python3.6/site-packages/tensorflow/python/framework/dtypes.py:527: FutureWarning: Passing (type, 1) or '1type' as a synonym of type is deprecated; in a future version of numpy, it will be understood as (type, (1,)) / '(1,)type'.\n",
      "  _np_quint8 = np.dtype([(\"quint8\", np.uint8, 1)])\n",
      "/p/software/jusuf/stages/Devel-2019a/software/TensorFlow/1.13.1-GCCcore-8.3.0-GPU-Python-3.6.8/lib/python3.6/site-packages/tensorflow/python/framework/dtypes.py:528: FutureWarning: Passing (type, 1) or '1type' as a synonym of type is deprecated; in a future version of numpy, it will be understood as (type, (1,)) / '(1,)type'.\n",
      "  _np_qint16 = np.dtype([(\"qint16\", np.int16, 1)])\n",
      "/p/software/jusuf/stages/Devel-2019a/software/TensorFlow/1.13.1-GCCcore-8.3.0-GPU-Python-3.6.8/lib/python3.6/site-packages/tensorflow/python/framework/dtypes.py:529: FutureWarning: Passing (type, 1) or '1type' as a synonym of type is deprecated; in a future version of numpy, it will be understood as (type, (1,)) / '(1,)type'.\n",
      "  _np_quint16 = np.dtype([(\"quint16\", np.uint16, 1)])\n",
      "/p/software/jusuf/stages/Devel-2019a/software/TensorFlow/1.13.1-GCCcore-8.3.0-GPU-Python-3.6.8/lib/python3.6/site-packages/tensorflow/python/framework/dtypes.py:530: FutureWarning: Passing (type, 1) or '1type' as a synonym of type is deprecated; in a future version of numpy, it will be understood as (type, (1,)) / '(1,)type'.\n",
      "  _np_qint32 = np.dtype([(\"qint32\", np.int32, 1)])\n",
      "/p/software/jusuf/stages/Devel-2019a/software/TensorFlow/1.13.1-GCCcore-8.3.0-GPU-Python-3.6.8/lib/python3.6/site-packages/tensorflow/python/framework/dtypes.py:535: FutureWarning: Passing (type, 1) or '1type' as a synonym of type is deprecated; in a future version of numpy, it will be understood as (type, (1,)) / '(1,)type'.\n",
      "  np_resource = np.dtype([(\"resource\", np.ubyte, 1)])\n"
     ]
    }
   ],
   "source": [
    "import numpy as np\n",
    "from sklearn.decomposition import PCA\n",
    "from pathlib import Path\n",
    "import pandas as pd\n",
    "from sklearn.preprocessing import KBinsDiscretizer\n",
    "from sklearn.model_selection import train_test_split\n",
    "import matplotlib\n",
    "import tensorflow as tf\n",
    "from tensorflow import keras as K\n",
    "from tensorflow.keras.layers import Conv2D, Dense, Flatten\n",
    "from tensorflow.keras.losses import categorical_crossentropy\n",
    "from tensorflow.keras.optimizers import RMSprop"
   ]
  },
  {
   "cell_type": "code",
   "execution_count": 2,
   "metadata": {},
   "outputs": [],
   "source": [
    "y_path = Path.cwd().parent.joinpath(\"Data\",\"Split\",\"train_labels.npy\")\n",
    "x_path = Path.cwd().parent.joinpath(\"Data\",\"Split\",\"train_features.npy\")\n",
    "x_test_path = Path.cwd().parent.joinpath(\"Data\",\"Split\",\"test_features.npy\")\n",
    "y_test_path = Path.cwd().parent.joinpath(\"Data\",\"Split\",\"test_labels.npy\")\n",
    "\n",
    "y_train = np.load(y_path)\n",
    "x_train = np.load(x_path)\n",
    "y_test = np.load(y_test_path)\n",
    "x_test = np.load(x_test_path)"
   ]
  },
  {
   "cell_type": "code",
   "execution_count": 26,
   "metadata": {},
   "outputs": [],
   "source": [
    "y_full = np.concatenate((y_train,y_test),axis=0)\n",
    "x_full = np.vstack((x_train,x_test))"
   ]
  },
  {
   "cell_type": "code",
   "execution_count": 40,
   "metadata": {},
   "outputs": [],
   "source": [
    "#Load data for CNN\n",
    "path = '/p/project/training2005/HZG_Challenge/'\n",
    "\n",
    "temperature_data = np.load(path+'tas_train.npy')\n",
    "pressure_data = np.load(path+'psl_train.npy')\n",
    "\n",
    "temp_new = np.load(path+'tas_predict.npy')\n",
    "pressure_new = np.load(path+'psl_predict.npy')\n",
    "\n",
    "x_train_full = np.concatenate([temperature_data, pressure_data], axis=1)\n",
    "\n",
    "x_new = np.concatenate([temp_new, pressure_new], axis=1)\n",
    "\n",
    "\n",
    "nao_data = np.load(path+'nao_index_train.npy')"
   ]
  },
  {
   "cell_type": "code",
   "execution_count": 12,
   "metadata": {},
   "outputs": [
    {
     "name": "stderr",
     "output_type": "stream",
     "text": [
      "Using TensorFlow backend.\n"
     ]
    }
   ],
   "source": [
    "from keras.utils import to_categorical\n",
    "quant_down = np.quantile(nao_data,q=0.25)\n",
    "quant_up = np.quantile(nao_data,q=0.75)\n",
    "inds = np.where(np.logical_and(quant_down<nao_data, nao_data<quant_up))[0]\n",
    "y_trim = nao_data[inds]\n",
    "y_train = np.sign(y_trim)\n",
    "y_binary = to_categorical(y_train)"
   ]
  },
  {
   "cell_type": "code",
   "execution_count": 6,
   "metadata": {},
   "outputs": [],
   "source": [
    "#trim x too\n",
    "x_trim = x_train_full[inds,]\n",
    "temperature_data_trim = temperature_data[inds,]\n",
    "pressure_data_trim = pressure_data_trim[inds,]"
   ]
  },
  {
   "cell_type": "code",
   "execution_count": 7,
   "metadata": {},
   "outputs": [
    {
     "data": {
      "text/plain": [
       "(450, 2322)"
      ]
     },
     "execution_count": 7,
     "metadata": {},
     "output_type": "execute_result"
    }
   ],
   "source": [
    "pd.DataFrame(y_train).describe()\n",
    "pd.DataFrame(y_test).describe()\n",
    "np.shape(temperature_data)\n",
    "#matplotlib.pyplot.plot(pd.DataFrame(y_train).hist())"
   ]
  },
  {
   "cell_type": "code",
   "execution_count": null,
   "metadata": {},
   "outputs": [],
   "source": [
    "#reshape training data\n"
   ]
  },
  {
   "cell_type": "code",
   "execution_count": 8,
   "metadata": {},
   "outputs": [
    {
     "name": "stdout",
     "output_type": "stream",
     "text": [
      "(450, 54, 43, 2)\n"
     ]
    }
   ],
   "source": [
    "#Reshape Data for CNN\n",
    "temp_data = temperature_data_trim.reshape((temperature_data_trim.shape[0], 54, 43))\n",
    "press_data = pressure_data_trim.reshape((pressure_data_trim.shape[0], 54, 43))\n",
    "\n",
    "stacked_data = np.array([temp_data, press_data])\n",
    "stacked_data = stacked_data.reshape((stacked_data.shape[1], stacked_data.shape[2], stacked_data.shape[3], stacked_data.shape[0]))\n",
    "print(stacked_data.shape)"
   ]
  },
  {
   "cell_type": "code",
   "execution_count": null,
   "metadata": {},
   "outputs": [],
   "source": [
    "#generate test data\n",
    "pressure_data_trim"
   ]
  },
  {
   "cell_type": "code",
   "execution_count": 14,
   "metadata": {},
   "outputs": [],
   "source": [
    "# model simple CNN\n",
    "class CNN:\n",
    "    def __init__(self):\n",
    "        pass\n",
    "    \n",
    "    def setup(self, input_shape=(54, 43, 2), n_filters=[10], kernel_size=[[5, 5]], padding='valid', activation='relu', n_neurons=10, activation_dense='relu'):\n",
    "        \n",
    "        Input = K.Input(shape=input_shape)\n",
    "        \n",
    "        tmp = []\n",
    "        tmp.append(Input)\n",
    "        for f in range(len(n_filters)):\n",
    "            conv = Conv2D(filters=n_filters[f], kernel_size=kernel_size[f], padding=padding, activation=activation)(tmp[-1])\n",
    "            tmp.append(conv)\n",
    "        \n",
    "        flat = Flatten()(tmp[-1])\n",
    "        \n",
    "        dense = Dense(n_neurons, activation_dense)(flat)\n",
    "        out = Dense(units=2, activation='softmax')(dense)\n",
    "        \n",
    "        model = K.Model(inputs=Input, outputs=out)\n",
    "        \n",
    "        return model\n",
    "        "
   ]
  },
  {
   "cell_type": "code",
   "execution_count": 15,
   "metadata": {},
   "outputs": [],
   "source": [
    "NN=CNN()\n",
    "mod = NN.setup(input_shape=stacked_data.shape[1:])\n",
    "mod.compile(loss=categorical_crossentropy, optimizer=RMSprop(),metrics=[\"accuracy\"])"
   ]
  },
  {
   "cell_type": "code",
   "execution_count": 23,
   "metadata": {},
   "outputs": [
    {
     "name": "stdout",
     "output_type": "stream",
     "text": [
      "Train on 445 samples, validate on 5 samples\n",
      "Epoch 1/5\n",
      "445/445 [==============================] - 1s 2ms/sample - loss: 1.1921e-07 - acc: 1.0000 - val_loss: 1.1921e-07 - val_acc: 1.0000\n",
      "Epoch 2/5\n",
      "445/445 [==============================] - 1s 3ms/sample - loss: 1.1921e-07 - acc: 1.0000 - val_loss: 1.1921e-07 - val_acc: 1.0000\n",
      "Epoch 3/5\n",
      "445/445 [==============================] - 2s 3ms/sample - loss: 1.1921e-07 - acc: 1.0000 - val_loss: 1.1921e-07 - val_acc: 1.0000\n",
      "Epoch 4/5\n",
      "445/445 [==============================] - 1s 3ms/sample - loss: 1.1921e-07 - acc: 1.0000 - val_loss: 1.1921e-07 - val_acc: 1.0000\n",
      "Epoch 5/5\n",
      "445/445 [==============================] - 1s 3ms/sample - loss: 1.1921e-07 - acc: 1.0000 - val_loss: 1.1921e-07 - val_acc: 1.0000\n"
     ]
    }
   ],
   "source": [
    "history = mod.fit(stacked_data, y_binary, batch_size=20, epochs=5, validation_split=0.01)"
   ]
  },
  {
   "cell_type": "code",
   "execution_count": 24,
   "metadata": {},
   "outputs": [],
   "source": [
    "from sklearn.model_selection import cross_val_score\n",
    "from sklearn.metrics import f1_score\n",
    "from sklearn.metrics import make_scorer\n",
    "from sklearn.model_selection import KFold"
   ]
  },
  {
   "cell_type": "code",
   "execution_count": 36,
   "metadata": {},
   "outputs": [],
   "source": [
    "num_folds = 10\n",
    "kfold = KFold(n_splits=10,random_state=1337,shuffle=True)\n",
    "acc_per_fold = []\n",
    "loss_per_fold = []"
   ]
  },
  {
   "cell_type": "code",
   "execution_count": null,
   "metadata": {},
   "outputs": [],
   "source": [
    "fold_no = 1\n",
    "for train, test in kfold.split(stacked_data, y_binary):\n",
    "    NN=CNN()\n",
    "    mod = NN.setup(input_shape=stacked_data.shape[1:])\n",
    "    mod.compile(loss=categorical_crossentropy, optimizer=RMSprop(),metrics=[\"accuracy\"])\n",
    "    history = mod.fit(stacked_data[train], y_binary[train], batch_size=20, epochs=5, validation_split=0.1)\n",
    "    \n",
    "    scores = mod.evaluate(stacked_data[test], y_binary[test], verbose=0)\n",
    "    print(f'Score for fold {fold_no}: {mod.metrics_names[0]} of {scores[0]}; {mod.metrics_names[1]} of {scores[1]*100}%')\n",
    "    acc_per_fold.append(scores[1] * 100)\n",
    "    loss_per_fold.append(scores[0])\n",
    "\n",
    "    # Increase fold number\n",
    "    fold_no = fold_no + 1"
   ]
  },
  {
   "cell_type": "code",
   "execution_count": 38,
   "metadata": {},
   "outputs": [
    {
     "name": "stdout",
     "output_type": "stream",
     "text": [
      "------------------------------------------------------------------------\n",
      "Score per fold\n",
      "------------------------------------------------------------------------\n",
      "> Fold 1 - Loss: 5.518117753429882e-06 - Accuracy: 100.0%\n",
      "------------------------------------------------------------------------\n",
      "> Fold 2 - Loss: 1.1920928955078125e-07 - Accuracy: 100.0%\n",
      "------------------------------------------------------------------------\n",
      "> Fold 3 - Loss: 1.1920928955078125e-07 - Accuracy: 100.0%\n",
      "------------------------------------------------------------------------\n",
      "> Fold 4 - Loss: 1.1920928955078125e-07 - Accuracy: 100.0%\n",
      "------------------------------------------------------------------------\n",
      "> Fold 5 - Loss: 1.1920928955078125e-07 - Accuracy: 100.0%\n",
      "------------------------------------------------------------------------\n",
      "> Fold 6 - Loss: 1.1920928955078125e-07 - Accuracy: 100.0%\n",
      "------------------------------------------------------------------------\n",
      "> Fold 7 - Loss: 1.1920928955078125e-07 - Accuracy: 100.0%\n",
      "------------------------------------------------------------------------\n",
      "> Fold 8 - Loss: 1.1920928955078125e-07 - Accuracy: 100.0%\n",
      "------------------------------------------------------------------------\n",
      "> Fold 9 - Loss: 1.1920928955078125e-07 - Accuracy: 100.0%\n",
      "------------------------------------------------------------------------\n",
      "> Fold 10 - Loss: 1.1920928955078125e-07 - Accuracy: 100.0%\n",
      "------------------------------------------------------------------------\n",
      "Average scores for all folds:\n",
      "> Accuracy: 100.0 (+- 0.0)\n",
      "> Loss: 6.591001359386914e-07\n",
      "------------------------------------------------------------------------\n"
     ]
    }
   ],
   "source": [
    "# == Provide average scores ==\n",
    "print('------------------------------------------------------------------------')\n",
    "print('Score per fold')\n",
    "for i in range(0, len(acc_per_fold)):\n",
    "  print('------------------------------------------------------------------------')\n",
    "  print(f'> Fold {i+1} - Loss: {loss_per_fold[i]} - Accuracy: {acc_per_fold[i]}%')\n",
    "print('------------------------------------------------------------------------')\n",
    "print('Average scores for all folds:')\n",
    "print(f'> Accuracy: {np.mean(acc_per_fold)} (+- {np.std(acc_per_fold)})')\n",
    "print(f'> Loss: {np.mean(loss_per_fold)}')\n",
    "print('------------------------------------------------------------------------')"
   ]
  },
  {
   "cell_type": "code",
   "execution_count": null,
   "metadata": {},
   "outputs": [],
   "source": [
    "#How does it generalize?\n",
    "score = model.evaluate(input_test, target_test, verbose=0)"
   ]
  },
  {
   "cell_type": "code",
   "execution_count": null,
   "metadata": {},
   "outputs": [],
   "source": []
  }
 ],
 "metadata": {
  "kernelspec": {
   "display_name": "datathon",
   "language": "python",
   "name": "datathon"
  },
  "language_info": {
   "codemirror_mode": {
    "name": "ipython",
    "version": 3
   },
   "file_extension": ".py",
   "mimetype": "text/x-python",
   "name": "python",
   "nbconvert_exporter": "python",
   "pygments_lexer": "ipython3",
   "version": "3.6.8"
  }
 },
 "nbformat": 4,
 "nbformat_minor": 4
}
