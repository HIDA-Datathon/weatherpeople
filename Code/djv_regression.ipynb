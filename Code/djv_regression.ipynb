{
 "cells": [
  {
   "cell_type": "code",
   "execution_count": 1,
   "metadata": {},
   "outputs": [],
   "source": [
    "import numpy as np\n",
    "from sklearn.decomposition import PCA\n",
    "import pandas as pd\n",
    "from sklearn.preprocessing import KBinsDiscretizer\n",
    "from sklearn.model_selection import train_test_split\n",
    "%matplotlib inline"
   ]
  },
  {
   "cell_type": "code",
   "execution_count": 5,
   "metadata": {},
   "outputs": [],
   "source": [
    "tas_train = np.load('../Data/tas_train.npy')\n",
    "psl_train = np.load('../Data/psl_train.npy')\n",
    "nao_index_train = np.load('../Data/nao_index_train.npy')\n"
   ]
  },
  {
   "cell_type": "code",
   "execution_count": 4,
   "metadata": {},
   "outputs": [
    {
     "data": {
      "text/plain": [
       "(900, 2322)"
      ]
     },
     "execution_count": 4,
     "metadata": {},
     "output_type": "execute_result"
    }
   ],
   "source": []
  },
  {
   "cell_type": "code",
   "execution_count": 6,
   "metadata": {},
   "outputs": [],
   "source": [
    "pca = PCA(n_components=50) #90% explained variance"
   ]
  },
  {
   "cell_type": "code",
   "execution_count": 7,
   "metadata": {},
   "outputs": [
    {
     "data": {
      "text/plain": [
       "PCA(n_components=50)"
      ]
     },
     "execution_count": 7,
     "metadata": {},
     "output_type": "execute_result"
    }
   ],
   "source": [
    "pca.fit(tas_train)"
   ]
  },
  {
   "cell_type": "code",
   "execution_count": 8,
   "metadata": {},
   "outputs": [
    {
     "name": "stdout",
     "output_type": "stream",
     "text": [
      "[0.139324   0.08886949 0.08387699 0.06725111 0.05784979 0.04628902\n",
      " 0.04110706 0.03692171 0.0271803  0.02323685 0.02261667 0.02123957\n",
      " 0.01944782 0.01610227 0.01520486 0.01439683 0.01356993 0.0122921\n",
      " 0.01148158 0.01075819 0.00956839 0.00779558 0.0072168  0.00705343\n",
      " 0.00634401 0.00613418 0.00562966 0.00522838 0.00477947 0.00455712\n",
      " 0.00425549 0.00418571 0.00402752 0.0039618  0.0036004  0.00336402\n",
      " 0.00314784 0.0031243  0.0029651  0.00289866 0.00271184 0.00261066\n",
      " 0.00256204 0.00246324 0.00237084 0.00227473 0.00217784 0.00212424\n",
      " 0.00208642 0.00196574]\n"
     ]
    }
   ],
   "source": [
    "print(pca.explained_variance_ratio_)"
   ]
  },
  {
   "cell_type": "code",
   "execution_count": 26,
   "metadata": {},
   "outputs": [
    {
     "name": "stdout",
     "output_type": "stream",
     "text": [
      "0.8921775439453584\n"
     ]
    }
   ],
   "source": [
    "print(pca.explained_variance_ratio_.sum())"
   ]
  },
  {
   "cell_type": "code",
   "execution_count": 27,
   "metadata": {},
   "outputs": [],
   "source": [
    "psl_train = np.load('/HZG_Challenge/psl_train.npy')"
   ]
  },
  {
   "cell_type": "code",
   "execution_count": 28,
   "metadata": {},
   "outputs": [
    {
     "data": {
      "text/plain": [
       "(900, 2322)"
      ]
     },
     "execution_count": 28,
     "metadata": {},
     "output_type": "execute_result"
    }
   ],
   "source": [
    "psl_train.shape"
   ]
  },
  {
   "cell_type": "code",
   "execution_count": null,
   "metadata": {},
   "outputs": [],
   "source": []
  },
  {
   "cell_type": "code",
   "execution_count": 30,
   "metadata": {},
   "outputs": [],
   "source": [
    "tas_df = pd.DataFrame(tas_train)"
   ]
  },
  {
   "cell_type": "code",
   "execution_count": 31,
   "metadata": {},
   "outputs": [
    {
     "data": {
      "text/html": [
       "<div>\n",
       "<style scoped>\n",
       "    .dataframe tbody tr th:only-of-type {\n",
       "        vertical-align: middle;\n",
       "    }\n",
       "\n",
       "    .dataframe tbody tr th {\n",
       "        vertical-align: top;\n",
       "    }\n",
       "\n",
       "    .dataframe thead th {\n",
       "        text-align: right;\n",
       "    }\n",
       "</style>\n",
       "<table border=\"1\" class=\"dataframe\">\n",
       "  <thead>\n",
       "    <tr style=\"text-align: right;\">\n",
       "      <th></th>\n",
       "      <th>0</th>\n",
       "      <th>1</th>\n",
       "      <th>2</th>\n",
       "      <th>3</th>\n",
       "      <th>4</th>\n",
       "      <th>5</th>\n",
       "      <th>6</th>\n",
       "      <th>7</th>\n",
       "      <th>8</th>\n",
       "      <th>9</th>\n",
       "      <th>...</th>\n",
       "      <th>2312</th>\n",
       "      <th>2313</th>\n",
       "      <th>2314</th>\n",
       "      <th>2315</th>\n",
       "      <th>2316</th>\n",
       "      <th>2317</th>\n",
       "      <th>2318</th>\n",
       "      <th>2319</th>\n",
       "      <th>2320</th>\n",
       "      <th>2321</th>\n",
       "    </tr>\n",
       "  </thead>\n",
       "  <tbody>\n",
       "    <tr>\n",
       "      <th>count</th>\n",
       "      <td>900.000000</td>\n",
       "      <td>900.000000</td>\n",
       "      <td>900.000000</td>\n",
       "      <td>900.000000</td>\n",
       "      <td>900.000000</td>\n",
       "      <td>900.000000</td>\n",
       "      <td>900.000000</td>\n",
       "      <td>900.000000</td>\n",
       "      <td>900.000000</td>\n",
       "      <td>900.000000</td>\n",
       "      <td>...</td>\n",
       "      <td>900.000000</td>\n",
       "      <td>900.000000</td>\n",
       "      <td>900.000000</td>\n",
       "      <td>900.000000</td>\n",
       "      <td>900.000000</td>\n",
       "      <td>900.000000</td>\n",
       "      <td>900.000000</td>\n",
       "      <td>900.000000</td>\n",
       "      <td>900.000000</td>\n",
       "      <td>900.000000</td>\n",
       "    </tr>\n",
       "    <tr>\n",
       "      <th>mean</th>\n",
       "      <td>-0.020948</td>\n",
       "      <td>-0.013025</td>\n",
       "      <td>-0.005528</td>\n",
       "      <td>-0.004910</td>\n",
       "      <td>-0.010288</td>\n",
       "      <td>-0.012511</td>\n",
       "      <td>-0.009414</td>\n",
       "      <td>-0.013177</td>\n",
       "      <td>-0.021392</td>\n",
       "      <td>-0.021177</td>\n",
       "      <td>...</td>\n",
       "      <td>-0.014952</td>\n",
       "      <td>-0.013712</td>\n",
       "      <td>-0.012492</td>\n",
       "      <td>-0.011316</td>\n",
       "      <td>-0.011490</td>\n",
       "      <td>-0.010732</td>\n",
       "      <td>-0.010055</td>\n",
       "      <td>-0.008315</td>\n",
       "      <td>-0.007237</td>\n",
       "      <td>-0.006386</td>\n",
       "    </tr>\n",
       "    <tr>\n",
       "      <th>std</th>\n",
       "      <td>1.002389</td>\n",
       "      <td>1.006931</td>\n",
       "      <td>1.001695</td>\n",
       "      <td>0.994710</td>\n",
       "      <td>0.985836</td>\n",
       "      <td>0.998403</td>\n",
       "      <td>0.998139</td>\n",
       "      <td>0.988219</td>\n",
       "      <td>0.987657</td>\n",
       "      <td>0.993144</td>\n",
       "      <td>...</td>\n",
       "      <td>0.998259</td>\n",
       "      <td>1.000685</td>\n",
       "      <td>1.002759</td>\n",
       "      <td>1.002807</td>\n",
       "      <td>1.002253</td>\n",
       "      <td>1.001752</td>\n",
       "      <td>1.000898</td>\n",
       "      <td>0.999298</td>\n",
       "      <td>0.998021</td>\n",
       "      <td>0.996583</td>\n",
       "    </tr>\n",
       "    <tr>\n",
       "      <th>min</th>\n",
       "      <td>-3.134698</td>\n",
       "      <td>-3.746261</td>\n",
       "      <td>-3.537526</td>\n",
       "      <td>-2.862681</td>\n",
       "      <td>-2.720412</td>\n",
       "      <td>-3.205618</td>\n",
       "      <td>-3.302332</td>\n",
       "      <td>-3.331811</td>\n",
       "      <td>-2.774170</td>\n",
       "      <td>-3.138117</td>\n",
       "      <td>...</td>\n",
       "      <td>-3.018653</td>\n",
       "      <td>-2.914195</td>\n",
       "      <td>-2.922373</td>\n",
       "      <td>-2.921236</td>\n",
       "      <td>-2.884788</td>\n",
       "      <td>-2.814241</td>\n",
       "      <td>-2.890756</td>\n",
       "      <td>-2.871817</td>\n",
       "      <td>-2.918600</td>\n",
       "      <td>-3.094072</td>\n",
       "    </tr>\n",
       "    <tr>\n",
       "      <th>25%</th>\n",
       "      <td>-0.706552</td>\n",
       "      <td>-0.686002</td>\n",
       "      <td>-0.707085</td>\n",
       "      <td>-0.663640</td>\n",
       "      <td>-0.657127</td>\n",
       "      <td>-0.702608</td>\n",
       "      <td>-0.714306</td>\n",
       "      <td>-0.688936</td>\n",
       "      <td>-0.697033</td>\n",
       "      <td>-0.645607</td>\n",
       "      <td>...</td>\n",
       "      <td>-0.676842</td>\n",
       "      <td>-0.696944</td>\n",
       "      <td>-0.694308</td>\n",
       "      <td>-0.700104</td>\n",
       "      <td>-0.698966</td>\n",
       "      <td>-0.696045</td>\n",
       "      <td>-0.717820</td>\n",
       "      <td>-0.688813</td>\n",
       "      <td>-0.690783</td>\n",
       "      <td>-0.686476</td>\n",
       "    </tr>\n",
       "    <tr>\n",
       "      <th>50%</th>\n",
       "      <td>-0.005425</td>\n",
       "      <td>0.009054</td>\n",
       "      <td>-0.002138</td>\n",
       "      <td>-0.043877</td>\n",
       "      <td>-0.047445</td>\n",
       "      <td>-0.032554</td>\n",
       "      <td>0.010525</td>\n",
       "      <td>-0.030677</td>\n",
       "      <td>-0.015193</td>\n",
       "      <td>-0.036118</td>\n",
       "      <td>...</td>\n",
       "      <td>-0.073112</td>\n",
       "      <td>-0.073332</td>\n",
       "      <td>-0.055754</td>\n",
       "      <td>-0.060289</td>\n",
       "      <td>-0.043570</td>\n",
       "      <td>-0.039844</td>\n",
       "      <td>-0.023972</td>\n",
       "      <td>-0.037384</td>\n",
       "      <td>-0.026627</td>\n",
       "      <td>-0.011707</td>\n",
       "    </tr>\n",
       "    <tr>\n",
       "      <th>75%</th>\n",
       "      <td>0.630920</td>\n",
       "      <td>0.646854</td>\n",
       "      <td>0.667608</td>\n",
       "      <td>0.617118</td>\n",
       "      <td>0.630473</td>\n",
       "      <td>0.631920</td>\n",
       "      <td>0.669183</td>\n",
       "      <td>0.654021</td>\n",
       "      <td>0.614531</td>\n",
       "      <td>0.595407</td>\n",
       "      <td>...</td>\n",
       "      <td>0.675336</td>\n",
       "      <td>0.668091</td>\n",
       "      <td>0.671121</td>\n",
       "      <td>0.695338</td>\n",
       "      <td>0.677894</td>\n",
       "      <td>0.700986</td>\n",
       "      <td>0.705812</td>\n",
       "      <td>0.691964</td>\n",
       "      <td>0.706714</td>\n",
       "      <td>0.726006</td>\n",
       "    </tr>\n",
       "    <tr>\n",
       "      <th>max</th>\n",
       "      <td>3.925143</td>\n",
       "      <td>3.823735</td>\n",
       "      <td>3.794156</td>\n",
       "      <td>3.512680</td>\n",
       "      <td>3.482570</td>\n",
       "      <td>3.502101</td>\n",
       "      <td>2.873264</td>\n",
       "      <td>3.155710</td>\n",
       "      <td>3.568678</td>\n",
       "      <td>3.828615</td>\n",
       "      <td>...</td>\n",
       "      <td>3.430091</td>\n",
       "      <td>3.499839</td>\n",
       "      <td>3.441948</td>\n",
       "      <td>3.410424</td>\n",
       "      <td>3.338995</td>\n",
       "      <td>3.246259</td>\n",
       "      <td>3.059535</td>\n",
       "      <td>2.817260</td>\n",
       "      <td>2.617918</td>\n",
       "      <td>2.478982</td>\n",
       "    </tr>\n",
       "  </tbody>\n",
       "</table>\n",
       "<p>8 rows × 2322 columns</p>\n",
       "</div>"
      ],
      "text/plain": [
       "             0           1           2           3           4           5     \\\n",
       "count  900.000000  900.000000  900.000000  900.000000  900.000000  900.000000   \n",
       "mean    -0.020948   -0.013025   -0.005528   -0.004910   -0.010288   -0.012511   \n",
       "std      1.002389    1.006931    1.001695    0.994710    0.985836    0.998403   \n",
       "min     -3.134698   -3.746261   -3.537526   -2.862681   -2.720412   -3.205618   \n",
       "25%     -0.706552   -0.686002   -0.707085   -0.663640   -0.657127   -0.702608   \n",
       "50%     -0.005425    0.009054   -0.002138   -0.043877   -0.047445   -0.032554   \n",
       "75%      0.630920    0.646854    0.667608    0.617118    0.630473    0.631920   \n",
       "max      3.925143    3.823735    3.794156    3.512680    3.482570    3.502101   \n",
       "\n",
       "             6           7           8           9     ...        2312  \\\n",
       "count  900.000000  900.000000  900.000000  900.000000  ...  900.000000   \n",
       "mean    -0.009414   -0.013177   -0.021392   -0.021177  ...   -0.014952   \n",
       "std      0.998139    0.988219    0.987657    0.993144  ...    0.998259   \n",
       "min     -3.302332   -3.331811   -2.774170   -3.138117  ...   -3.018653   \n",
       "25%     -0.714306   -0.688936   -0.697033   -0.645607  ...   -0.676842   \n",
       "50%      0.010525   -0.030677   -0.015193   -0.036118  ...   -0.073112   \n",
       "75%      0.669183    0.654021    0.614531    0.595407  ...    0.675336   \n",
       "max      2.873264    3.155710    3.568678    3.828615  ...    3.430091   \n",
       "\n",
       "             2313        2314        2315        2316        2317        2318  \\\n",
       "count  900.000000  900.000000  900.000000  900.000000  900.000000  900.000000   \n",
       "mean    -0.013712   -0.012492   -0.011316   -0.011490   -0.010732   -0.010055   \n",
       "std      1.000685    1.002759    1.002807    1.002253    1.001752    1.000898   \n",
       "min     -2.914195   -2.922373   -2.921236   -2.884788   -2.814241   -2.890756   \n",
       "25%     -0.696944   -0.694308   -0.700104   -0.698966   -0.696045   -0.717820   \n",
       "50%     -0.073332   -0.055754   -0.060289   -0.043570   -0.039844   -0.023972   \n",
       "75%      0.668091    0.671121    0.695338    0.677894    0.700986    0.705812   \n",
       "max      3.499839    3.441948    3.410424    3.338995    3.246259    3.059535   \n",
       "\n",
       "             2319        2320        2321  \n",
       "count  900.000000  900.000000  900.000000  \n",
       "mean    -0.008315   -0.007237   -0.006386  \n",
       "std      0.999298    0.998021    0.996583  \n",
       "min     -2.871817   -2.918600   -3.094072  \n",
       "25%     -0.688813   -0.690783   -0.686476  \n",
       "50%     -0.037384   -0.026627   -0.011707  \n",
       "75%      0.691964    0.706714    0.726006  \n",
       "max      2.817260    2.617918    2.478982  \n",
       "\n",
       "[8 rows x 2322 columns]"
      ]
     },
     "execution_count": 31,
     "metadata": {},
     "output_type": "execute_result"
    }
   ],
   "source": [
    "tas_df.describe() #standardized"
   ]
  },
  {
   "cell_type": "code",
   "execution_count": 32,
   "metadata": {},
   "outputs": [],
   "source": [
    "psl_df = pd.DataFrame(psl_train)"
   ]
  },
  {
   "cell_type": "code",
   "execution_count": 33,
   "metadata": {},
   "outputs": [
    {
     "data": {
      "text/html": [
       "<div>\n",
       "<style scoped>\n",
       "    .dataframe tbody tr th:only-of-type {\n",
       "        vertical-align: middle;\n",
       "    }\n",
       "\n",
       "    .dataframe tbody tr th {\n",
       "        vertical-align: top;\n",
       "    }\n",
       "\n",
       "    .dataframe thead th {\n",
       "        text-align: right;\n",
       "    }\n",
       "</style>\n",
       "<table border=\"1\" class=\"dataframe\">\n",
       "  <thead>\n",
       "    <tr style=\"text-align: right;\">\n",
       "      <th></th>\n",
       "      <th>0</th>\n",
       "      <th>1</th>\n",
       "      <th>2</th>\n",
       "      <th>3</th>\n",
       "      <th>4</th>\n",
       "      <th>5</th>\n",
       "      <th>6</th>\n",
       "      <th>7</th>\n",
       "      <th>8</th>\n",
       "      <th>9</th>\n",
       "      <th>...</th>\n",
       "      <th>2312</th>\n",
       "      <th>2313</th>\n",
       "      <th>2314</th>\n",
       "      <th>2315</th>\n",
       "      <th>2316</th>\n",
       "      <th>2317</th>\n",
       "      <th>2318</th>\n",
       "      <th>2319</th>\n",
       "      <th>2320</th>\n",
       "      <th>2321</th>\n",
       "    </tr>\n",
       "  </thead>\n",
       "  <tbody>\n",
       "    <tr>\n",
       "      <th>count</th>\n",
       "      <td>900.000000</td>\n",
       "      <td>900.000000</td>\n",
       "      <td>900.000000</td>\n",
       "      <td>900.000000</td>\n",
       "      <td>900.000000</td>\n",
       "      <td>900.000000</td>\n",
       "      <td>900.000000</td>\n",
       "      <td>900.000000</td>\n",
       "      <td>900.000000</td>\n",
       "      <td>900.000000</td>\n",
       "      <td>...</td>\n",
       "      <td>900.000000</td>\n",
       "      <td>900.000000</td>\n",
       "      <td>900.000000</td>\n",
       "      <td>900.000000</td>\n",
       "      <td>900.000000</td>\n",
       "      <td>900.000000</td>\n",
       "      <td>900.000000</td>\n",
       "      <td>900.000000</td>\n",
       "      <td>900.000000</td>\n",
       "      <td>900.000000</td>\n",
       "    </tr>\n",
       "    <tr>\n",
       "      <th>mean</th>\n",
       "      <td>0.014958</td>\n",
       "      <td>0.014092</td>\n",
       "      <td>0.011558</td>\n",
       "      <td>0.012460</td>\n",
       "      <td>0.015304</td>\n",
       "      <td>0.014469</td>\n",
       "      <td>0.002396</td>\n",
       "      <td>0.007712</td>\n",
       "      <td>0.019987</td>\n",
       "      <td>0.023728</td>\n",
       "      <td>...</td>\n",
       "      <td>0.001946</td>\n",
       "      <td>0.001950</td>\n",
       "      <td>0.001935</td>\n",
       "      <td>0.001903</td>\n",
       "      <td>0.001860</td>\n",
       "      <td>0.001807</td>\n",
       "      <td>0.001743</td>\n",
       "      <td>0.001664</td>\n",
       "      <td>0.001568</td>\n",
       "      <td>0.001456</td>\n",
       "    </tr>\n",
       "    <tr>\n",
       "      <th>std</th>\n",
       "      <td>0.997529</td>\n",
       "      <td>0.997301</td>\n",
       "      <td>0.993635</td>\n",
       "      <td>0.990424</td>\n",
       "      <td>0.987297</td>\n",
       "      <td>1.005007</td>\n",
       "      <td>0.998621</td>\n",
       "      <td>0.995154</td>\n",
       "      <td>0.991564</td>\n",
       "      <td>0.990769</td>\n",
       "      <td>...</td>\n",
       "      <td>1.003276</td>\n",
       "      <td>1.003139</td>\n",
       "      <td>1.002999</td>\n",
       "      <td>1.002867</td>\n",
       "      <td>1.002731</td>\n",
       "      <td>1.002569</td>\n",
       "      <td>1.002358</td>\n",
       "      <td>1.002092</td>\n",
       "      <td>1.001789</td>\n",
       "      <td>1.001485</td>\n",
       "    </tr>\n",
       "    <tr>\n",
       "      <th>min</th>\n",
       "      <td>-3.374068</td>\n",
       "      <td>-3.374570</td>\n",
       "      <td>-3.421575</td>\n",
       "      <td>-3.459663</td>\n",
       "      <td>-3.304775</td>\n",
       "      <td>-3.465212</td>\n",
       "      <td>-2.746971</td>\n",
       "      <td>-3.501470</td>\n",
       "      <td>-3.830765</td>\n",
       "      <td>-3.213549</td>\n",
       "      <td>...</td>\n",
       "      <td>-3.073359</td>\n",
       "      <td>-3.109466</td>\n",
       "      <td>-3.178130</td>\n",
       "      <td>-3.236075</td>\n",
       "      <td>-3.282917</td>\n",
       "      <td>-3.318357</td>\n",
       "      <td>-3.342898</td>\n",
       "      <td>-3.356984</td>\n",
       "      <td>-3.397218</td>\n",
       "      <td>-3.440366</td>\n",
       "    </tr>\n",
       "    <tr>\n",
       "      <th>25%</th>\n",
       "      <td>-0.616754</td>\n",
       "      <td>-0.633600</td>\n",
       "      <td>-0.637868</td>\n",
       "      <td>-0.608031</td>\n",
       "      <td>-0.597125</td>\n",
       "      <td>-0.611817</td>\n",
       "      <td>-0.681468</td>\n",
       "      <td>-0.629243</td>\n",
       "      <td>-0.649858</td>\n",
       "      <td>-0.646091</td>\n",
       "      <td>...</td>\n",
       "      <td>-0.666118</td>\n",
       "      <td>-0.672103</td>\n",
       "      <td>-0.669117</td>\n",
       "      <td>-0.663311</td>\n",
       "      <td>-0.666471</td>\n",
       "      <td>-0.660451</td>\n",
       "      <td>-0.650379</td>\n",
       "      <td>-0.651250</td>\n",
       "      <td>-0.643196</td>\n",
       "      <td>-0.649224</td>\n",
       "    </tr>\n",
       "    <tr>\n",
       "      <th>50%</th>\n",
       "      <td>0.035026</td>\n",
       "      <td>0.042162</td>\n",
       "      <td>0.009297</td>\n",
       "      <td>0.047349</td>\n",
       "      <td>0.047537</td>\n",
       "      <td>0.038154</td>\n",
       "      <td>-0.112574</td>\n",
       "      <td>0.012083</td>\n",
       "      <td>0.057638</td>\n",
       "      <td>0.054153</td>\n",
       "      <td>...</td>\n",
       "      <td>-0.052803</td>\n",
       "      <td>-0.042995</td>\n",
       "      <td>-0.035046</td>\n",
       "      <td>-0.026909</td>\n",
       "      <td>-0.031737</td>\n",
       "      <td>-0.022591</td>\n",
       "      <td>-0.033997</td>\n",
       "      <td>-0.025252</td>\n",
       "      <td>-0.027156</td>\n",
       "      <td>-0.032998</td>\n",
       "    </tr>\n",
       "    <tr>\n",
       "      <th>75%</th>\n",
       "      <td>0.671336</td>\n",
       "      <td>0.655331</td>\n",
       "      <td>0.658158</td>\n",
       "      <td>0.694540</td>\n",
       "      <td>0.669270</td>\n",
       "      <td>0.706511</td>\n",
       "      <td>0.670889</td>\n",
       "      <td>0.601500</td>\n",
       "      <td>0.700216</td>\n",
       "      <td>0.727350</td>\n",
       "      <td>...</td>\n",
       "      <td>0.689055</td>\n",
       "      <td>0.690456</td>\n",
       "      <td>0.709077</td>\n",
       "      <td>0.716162</td>\n",
       "      <td>0.700813</td>\n",
       "      <td>0.685603</td>\n",
       "      <td>0.666954</td>\n",
       "      <td>0.667553</td>\n",
       "      <td>0.664425</td>\n",
       "      <td>0.657458</td>\n",
       "    </tr>\n",
       "    <tr>\n",
       "      <th>max</th>\n",
       "      <td>3.156430</td>\n",
       "      <td>3.323535</td>\n",
       "      <td>3.159214</td>\n",
       "      <td>3.084726</td>\n",
       "      <td>3.282553</td>\n",
       "      <td>3.027048</td>\n",
       "      <td>3.937400</td>\n",
       "      <td>3.378574</td>\n",
       "      <td>2.488252</td>\n",
       "      <td>2.506930</td>\n",
       "      <td>...</td>\n",
       "      <td>3.412569</td>\n",
       "      <td>3.397225</td>\n",
       "      <td>3.374989</td>\n",
       "      <td>3.345648</td>\n",
       "      <td>3.309926</td>\n",
       "      <td>3.269560</td>\n",
       "      <td>3.226130</td>\n",
       "      <td>3.181619</td>\n",
       "      <td>3.136968</td>\n",
       "      <td>3.092967</td>\n",
       "    </tr>\n",
       "  </tbody>\n",
       "</table>\n",
       "<p>8 rows × 2322 columns</p>\n",
       "</div>"
      ],
      "text/plain": [
       "             0           1           2           3           4           5     \\\n",
       "count  900.000000  900.000000  900.000000  900.000000  900.000000  900.000000   \n",
       "mean     0.014958    0.014092    0.011558    0.012460    0.015304    0.014469   \n",
       "std      0.997529    0.997301    0.993635    0.990424    0.987297    1.005007   \n",
       "min     -3.374068   -3.374570   -3.421575   -3.459663   -3.304775   -3.465212   \n",
       "25%     -0.616754   -0.633600   -0.637868   -0.608031   -0.597125   -0.611817   \n",
       "50%      0.035026    0.042162    0.009297    0.047349    0.047537    0.038154   \n",
       "75%      0.671336    0.655331    0.658158    0.694540    0.669270    0.706511   \n",
       "max      3.156430    3.323535    3.159214    3.084726    3.282553    3.027048   \n",
       "\n",
       "             6           7           8           9     ...        2312  \\\n",
       "count  900.000000  900.000000  900.000000  900.000000  ...  900.000000   \n",
       "mean     0.002396    0.007712    0.019987    0.023728  ...    0.001946   \n",
       "std      0.998621    0.995154    0.991564    0.990769  ...    1.003276   \n",
       "min     -2.746971   -3.501470   -3.830765   -3.213549  ...   -3.073359   \n",
       "25%     -0.681468   -0.629243   -0.649858   -0.646091  ...   -0.666118   \n",
       "50%     -0.112574    0.012083    0.057638    0.054153  ...   -0.052803   \n",
       "75%      0.670889    0.601500    0.700216    0.727350  ...    0.689055   \n",
       "max      3.937400    3.378574    2.488252    2.506930  ...    3.412569   \n",
       "\n",
       "             2313        2314        2315        2316        2317        2318  \\\n",
       "count  900.000000  900.000000  900.000000  900.000000  900.000000  900.000000   \n",
       "mean     0.001950    0.001935    0.001903    0.001860    0.001807    0.001743   \n",
       "std      1.003139    1.002999    1.002867    1.002731    1.002569    1.002358   \n",
       "min     -3.109466   -3.178130   -3.236075   -3.282917   -3.318357   -3.342898   \n",
       "25%     -0.672103   -0.669117   -0.663311   -0.666471   -0.660451   -0.650379   \n",
       "50%     -0.042995   -0.035046   -0.026909   -0.031737   -0.022591   -0.033997   \n",
       "75%      0.690456    0.709077    0.716162    0.700813    0.685603    0.666954   \n",
       "max      3.397225    3.374989    3.345648    3.309926    3.269560    3.226130   \n",
       "\n",
       "             2319        2320        2321  \n",
       "count  900.000000  900.000000  900.000000  \n",
       "mean     0.001664    0.001568    0.001456  \n",
       "std      1.002092    1.001789    1.001485  \n",
       "min     -3.356984   -3.397218   -3.440366  \n",
       "25%     -0.651250   -0.643196   -0.649224  \n",
       "50%     -0.025252   -0.027156   -0.032998  \n",
       "75%      0.667553    0.664425    0.657458  \n",
       "max      3.181619    3.136968    3.092967  \n",
       "\n",
       "[8 rows x 2322 columns]"
      ]
     },
     "execution_count": 33,
     "metadata": {},
     "output_type": "execute_result"
    }
   ],
   "source": [
    "psl_df.describe() #standardized"
   ]
  },
  {
   "cell_type": "code",
   "execution_count": 2,
   "metadata": {},
   "outputs": [],
   "source": [
    "nao_index=np.load('/HZG_Challenge/nao_index_train.npy')"
   ]
  },
  {
   "cell_type": "code",
   "execution_count": 3,
   "metadata": {},
   "outputs": [
    {
     "data": {
      "text/plain": [
       "(900,)"
      ]
     },
     "execution_count": 3,
     "metadata": {},
     "output_type": "execute_result"
    }
   ],
   "source": [
    "nao_index.shape"
   ]
  },
  {
   "cell_type": "code",
   "execution_count": 4,
   "metadata": {},
   "outputs": [
    {
     "data": {
      "text/plain": [
       "0.015958945620611117"
      ]
     },
     "execution_count": 4,
     "metadata": {},
     "output_type": "execute_result"
    }
   ],
   "source": [
    "nao_index.mean()"
   ]
  },
  {
   "cell_type": "code",
   "execution_count": 5,
   "metadata": {},
   "outputs": [
    {
     "data": {
      "text/plain": [
       "1.001579576666294"
      ]
     },
     "execution_count": 5,
     "metadata": {},
     "output_type": "execute_result"
    }
   ],
   "source": [
    "nao_index.std()"
   ]
  },
  {
   "cell_type": "code",
   "execution_count": 14,
   "metadata": {},
   "outputs": [],
   "source": [
    "kbin = KBinsDiscretizer(n_bins=3, encode='ordinal', strategy='kmeans')"
   ]
  },
  {
   "cell_type": "code",
   "execution_count": 15,
   "metadata": {},
   "outputs": [],
   "source": [
    "nao_index_cat = kbin.fit_transform(nao_index.reshape(-1,1))"
   ]
  },
  {
   "cell_type": "code",
   "execution_count": 16,
   "metadata": {},
   "outputs": [],
   "source": [
    "resh =nao_index_cat.reshape(900,)"
   ]
  },
  {
   "cell_type": "code",
   "execution_count": 17,
   "metadata": {},
   "outputs": [],
   "source": [
    "ser = pd.Series(resh)"
   ]
  },
  {
   "cell_type": "code",
   "execution_count": 18,
   "metadata": {},
   "outputs": [
    {
     "data": {
      "text/plain": [
       "<matplotlib.axes._subplots.AxesSubplot at 0x7fdbac97f198>"
      ]
     },
     "execution_count": 18,
     "metadata": {},
     "output_type": "execute_result"
    },
    {
     "data": {
      "image/png": "[encoded data removed]",
      "text/plain": [
       "<Figure size 432x288 with 1 Axes>"
      ]
     },
     "metadata": {
      "needs_background": "light"
     },
     "output_type": "display_data"
    }
   ],
   "source": [
    "ser.value_counts().plot(kind='bar')"
   ]
  },
  {
   "cell_type": "code",
   "execution_count": 13,
   "metadata": {},
   "outputs": [
    {
     "data": {
      "text/plain": [
       "array([array([-3.85065722, -1.17055278, -0.15488502,  0.77288943,  2.88942409])],\n",
       "      dtype=object)"
      ]
     },
     "execution_count": 13,
     "metadata": {},
     "output_type": "execute_result"
    }
   ],
   "source": [
    "kbin.bin_edges_"
   ]
  },
  {
   "cell_type": "markdown",
   "metadata": {},
   "source": [
    "# Random Forest"
   ]
  },
  {
   "cell_type": "code",
   "execution_count": null,
   "metadata": {},
   "outputs": [],
   "source": [
    "from sklearn.ensemble import RandomForestClassifier\n"
   ]
  }
 ],
 "metadata": {
  "kernelspec": {
   "display_name": "Python 3",
   "language": "python",
   "name": "python3"
  },
  "language_info": {
   "codemirror_mode": {
    "name": "ipython",
    "version": 3
   },
   "file_extension": ".py",
   "mimetype": "text/x-python",
   "name": "python",
   "nbconvert_exporter": "python",
   "pygments_lexer": "ipython3",
   "version": "3.8.3"
  }
 },
 "nbformat": 4,
 "nbformat_minor": 4
}
