{
 "cells": [
  {
   "cell_type": "code",
   "execution_count": 4,
   "metadata": {},
   "outputs": [],
   "source": [
    "import numpy as np\n",
    "import pandas as pd\n",
    "from sklearn.ensemble import RandomForestClassifier\n",
    "from sklearn.decomposition import PCA\n",
    "from sklearn.model_selection import cross_val_score\n",
    "from matplotlib import pyplot as plt"
   ]
  },
  {
   "cell_type": "code",
   "execution_count": 5,
   "metadata": {},
   "outputs": [
    {
     "data": {
      "image/png": "[encoded data removed]",
      "text/plain": [
       "<Figure size 432x288 with 1 Axes>"
      ]
     },
     "metadata": {
      "needs_background": "light"
     },
     "output_type": "display_data"
    }
   ],
   "source": [
    "path = '/p/project/training2005/HZG_Challenge/'\n",
    "\n",
    "temperature_data = np.load(path+'tas_train.npy')\n",
    "pressure_data = np.load(path+'psl_train.npy')\n",
    "\n",
    "\n",
    "x_train_full = np.concatenate([temperature_data, pressure_data], axis=1)\n",
    "\n",
    "\n",
    "nao_data = np.load(path+'nao_index_train.npy')\n",
    "\n",
    "tmp_x = np.linspace(0, len(nao_data), len(nao_data))\n",
    "\n",
    "plt.plot(tmp_x, nao_data, 'b.')\n",
    "plt.show()"
   ]
  },
  {
   "cell_type": "code",
   "execution_count": 6,
   "metadata": {},
   "outputs": [
    {
     "name": "stdout",
     "output_type": "stream",
     "text": [
      "[[ 4.09655951e+00  1.62798288e+01 -1.13944421e+01 ... -1.32142301e+00\n",
      "  -4.02028276e+00  3.19910770e-01]\n",
      " [-9.18519807e+00 -2.73589342e+01 -4.37988030e+00 ...  9.17774056e-01\n",
      "  -9.10093877e-01  1.77206495e+00]\n",
      " [ 2.35475431e+01  5.28724436e+00 -1.98232371e+01 ...  3.44222495e+00\n",
      "  -2.94704114e-01 -1.90900805e-02]\n",
      " ...\n",
      " [-1.35147715e+00 -1.88854269e+01 -3.52691599e+01 ... -1.02868305e+00\n",
      "  -2.45548494e+00 -1.25687326e+00]\n",
      " [ 4.55894499e+01  2.14942137e+01 -1.27128348e+01 ... -2.73036945e+00\n",
      "   4.32973652e-02 -4.68861535e-01]\n",
      " [ 2.62206834e+01 -1.42453936e+01  7.46814851e+00 ...  2.01829699e+00\n",
      "  -2.60506600e+00  1.53222923e+00]]\n",
      "[0.139324   0.08886949 0.08387699 0.06725111 0.05784979 0.04628902\n",
      " 0.04110706 0.03692171 0.0271803  0.02323685 0.02261667 0.02123957\n",
      " 0.01944782 0.01610227 0.01520486 0.01439683 0.01356993 0.0122921\n",
      " 0.01148158 0.01075819 0.00956839 0.00779558 0.0072168  0.00705343\n",
      " 0.00634401 0.00613418 0.00562966 0.00522838 0.00477947 0.00455712\n",
      " 0.00425549 0.00418571 0.00402752 0.0039618  0.00360039 0.00336402\n",
      " 0.00314785 0.0031243  0.00296509 0.00289864 0.00271187 0.00261069\n",
      " 0.00256204 0.00246362 0.00237088 0.00227399 0.00217588 0.0021244\n",
      " 0.00208834 0.00197004]\n"
     ]
    }
   ],
   "source": [
    "pca = PCA(n_components=50)\n",
    "\n",
    "pca_temp = pca.fit_transform(temperature_data)\n",
    "\n",
    "print(pca_temp)\n",
    "\n",
    "print(pca.explained_variance_ratio_)"
   ]
  },
  {
   "cell_type": "code",
   "execution_count": 7,
   "metadata": {},
   "outputs": [
    {
     "name": "stdout",
     "output_type": "stream",
     "text": [
      "[0.30490791 0.18400934 0.07381419 0.06671203 0.06166861 0.05263237\n",
      " 0.03733528 0.0288457  0.02491261 0.01680746 0.01616275 0.01394154\n",
      " 0.01269437 0.01039641 0.00871227 0.00683595 0.0065405  0.00577146\n",
      " 0.00498761 0.00454754 0.00414056 0.0035176  0.00308141 0.00295469\n",
      " 0.00262907 0.00232871 0.00223747 0.00216999 0.00185604 0.00157332\n",
      " 0.00155057 0.00140081 0.0013316  0.00123748 0.0011494  0.00108885\n",
      " 0.00104446 0.0009467  0.00085657 0.00080332 0.00074315 0.00071773\n",
      " 0.00067387 0.00063728 0.00059264 0.00057115 0.00054763 0.00052248\n",
      " 0.0004792  0.00046037]\n",
      "0.9860800415289425\n"
     ]
    }
   ],
   "source": [
    "pca_press = pca.fit_transform(pressure_data)\n",
    "\n",
    "print(pca.explained_variance_ratio_)\n",
    "print(pca.explained_variance_ratio_.sum())"
   ]
  },
  {
   "cell_type": "code",
   "execution_count": 8,
   "metadata": {},
   "outputs": [
    {
     "name": "stdout",
     "output_type": "stream",
     "text": [
      "(900, 100)\n"
     ]
    }
   ],
   "source": [
    "pca_train = np.concatenate([pca_temp, pca_press], axis=1)\n",
    "print(pca_train.shape)\n",
    "binary_labels = np.sign(nao_data)"
   ]
  },
  {
   "cell_type": "code",
   "execution_count": 9,
   "metadata": {},
   "outputs": [],
   "source": [
    "rf = RandomForestClassifier(random_state=1337)"
   ]
  },
  {
   "cell_type": "code",
   "execution_count": 10,
   "metadata": {},
   "outputs": [
    {
     "data": {
      "text/plain": [
       "RandomForestClassifier(bootstrap=True, ccp_alpha=0.0, class_weight=None,\n",
       "                       criterion='gini', max_depth=None, max_features='auto',\n",
       "                       max_leaf_nodes=None, max_samples=None,\n",
       "                       min_impurity_decrease=0.0, min_impurity_split=None,\n",
       "                       min_samples_leaf=1, min_samples_split=2,\n",
       "                       min_weight_fraction_leaf=0.0, n_estimators=100,\n",
       "                       n_jobs=None, oob_score=False, random_state=1337,\n",
       "                       verbose=0, warm_start=False)"
      ]
     },
     "execution_count": 10,
     "metadata": {},
     "output_type": "execute_result"
    }
   ],
   "source": [
    "rf.fit(pca_train, binary_labels)"
   ]
  },
  {
   "cell_type": "code",
   "execution_count": 11,
   "metadata": {},
   "outputs": [
    {
     "data": {
      "text/plain": [
       "array([0.58888889, 0.53888889, 0.53888889, 0.57777778, 0.60555556])"
      ]
     },
     "execution_count": 11,
     "metadata": {},
     "output_type": "execute_result"
    }
   ],
   "source": [
    "cross_val_score(rf, pca_train, binary_labels, cv=5)"
   ]
  },
  {
   "cell_type": "code",
   "execution_count": null,
   "metadata": {},
   "outputs": [],
   "source": []
  }
 ],
 "metadata": {
  "kernelspec": {
   "display_name": "Python 3",
   "language": "python",
   "name": "python3"
  },
  "language_info": {
   "codemirror_mode": {
    "name": "ipython",
    "version": 3
   },
   "file_extension": ".py",
   "mimetype": "text/x-python",
   "name": "python",
   "nbconvert_exporter": "python",
   "pygments_lexer": "ipython3",
   "version": "3.6.8"
  }
 },
 "nbformat": 4,
 "nbformat_minor": 4
}
