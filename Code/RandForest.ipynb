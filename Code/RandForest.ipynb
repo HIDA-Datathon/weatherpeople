{
 "cells": [
  {
   "cell_type": "code",
   "execution_count": 388,
   "metadata": {},
   "outputs": [],
   "source": [
    "from sklearn.ensemble import RandomForestClassifier, AdaBoostClassifier\n",
    "from sklearn.decomposition import PCA\n",
    "from sklearn.preprocessing import KBinsDiscretizer\n",
    "from sklearn.compose import ColumnTransformer\n",
    "from sklearn.model_selection import train_test_split\n",
    "#from sklearn.pipeline import Pipeline\n",
    "from sklearn.model_selection import cross_val_score\n",
    "from sklearn.model_selection import GridSearchCV\n",
    "from sklearn.metrics import confusion_matrix, f1_score, precision_score\n",
    "from matplotlib import pyplot as plt\n",
    "from imblearn.over_sampling import RandomOverSampler\n",
    "from imblearn.pipeline import Pipeline\n",
    "from imblearn.over_sampling import SMOTE\n",
    "from collections import Counter\n",
    "%matplotlib inline\n",
    "import numpy as np\n",
    "import pandas as pd"
   ]
  },
  {
   "cell_type": "code",
   "execution_count": 389,
   "metadata": {},
   "outputs": [],
   "source": [
    "# Generate and save Test/Train Data - 3categories\n",
    "# X_tas = np.load('../Data/tas_train.npy')\n",
    "# X_psl = np.load('../Data/psl_train.npy')\n",
    "# y=np.load('../Data/nao_index_train.npy')\n",
    "\n",
    "# med_ids = np.where(np.logical_and(-1.5<y, y<1.5))[0]\n",
    "# y[y>=1.5] = 1 \n",
    "# y[y<=-1.5] = -1\n",
    "# y[med_ids] = 0\n",
    "# X = np.concatenate((X_tas,X_psl),axis=1)\n",
    "# y=y.reshape(-1,1)\n",
    "\n",
    "# X_train, X_test, y_train, y_test = train_test_split(X, y, test_size=0.20, random_state=42)\n",
    "\n",
    "# np.save('../Data/Split/X_train_3cat.npy', X_train)\n",
    "# np.save('../Data/Split/y_train_3cat.npy', y_train)\n",
    "# np.save('../Data/Split/X_test_3cat.npy', X_test)\n",
    "# np.save('../Data/Split/y_test_3cat.npy', y_test)"
   ]
  },
  {
   "cell_type": "code",
   "execution_count": 411,
   "metadata": {},
   "outputs": [],
   "source": [
    "#Load train/test data\n",
    "X_train = np.load('../Data/Split/X_train_3cat.npy')\n",
    "X_test = np.load('../Data/Split/X_test_3cat.npy')\n",
    "y_train = np.load('../Data/Split/y_train_3cat.npy')\n",
    "y_test = np.load('../Data/Split/y_test_3cat.npy')"
   ]
  },
  {
   "cell_type": "code",
   "execution_count": 391,
   "metadata": {},
   "outputs": [
    {
     "name": "stdout",
     "output_type": "stream",
     "text": [
      "% Explained Variance (Temp): 0.9792618859061815\n",
      "% Explained Variance (Press): 0.9792618859061815\n"
     ]
    }
   ],
   "source": [
    "pca_temp = PCA(n_components=200)\n",
    "pca_press = PCA(n_components=200)\n",
    "X_tas_pca = pca_temp.fit_transform(X_train[:,0:2321])\n",
    "X_psl_pca = pca_press.fit_transform(X_train[:,2322:4643])\n",
    "print('% Explained Variance (Temp): '+str(pca_temp.explained_variance_ratio_.sum()))\n",
    "print('% Explained Variance (Press): '+str(pca_temp.explained_variance_ratio_.sum()))\n",
    "X_train_pca = np.concatenate((X_tas_pca,X_psl_pca),axis=1)"
   ]
  },
  {
   "cell_type": "code",
   "execution_count": 392,
   "metadata": {},
   "outputs": [],
   "source": [
    "#np.histogram(y_train, bins=10)\n",
    "#plt.hist(y_train,bins=10)"
   ]
  },
  {
   "cell_type": "code",
   "execution_count": 393,
   "metadata": {},
   "outputs": [],
   "source": [
    "#y_train_bin = np.sign(y_train).reshape(-1,)\n",
    "# kbin = KBinsDiscretizer(n_bins=3, encode='ordinal', strategy='kmeans')\n",
    "# kbin = KBinsDiscretizer(n_bins=3, encode='ordinal', strategy='quantile')\n",
    "\n",
    "# y_train_cat= kbin.fit_transform(y_train.reshape(-1,1)).reshape(-1,)\n",
    "# print(pd.Series(y_train_cat).value_counts())\n",
    "# print(kbin.bin_edges_)"
   ]
  },
  {
   "cell_type": "code",
   "execution_count": 394,
   "metadata": {},
   "outputs": [
    {
     "name": "stdout",
     "output_type": "stream",
     "text": [
      "[(-1.0, 625), (0.0, 625), (1.0, 625)]\n"
     ]
    }
   ],
   "source": [
    "# Try some oversampling to combat the class imbalance\n",
    "x_resampled, y_resampled = SMOTE().fit_resample(X_train_pca, y_train)\n",
    "print(sorted(Counter(y_resampled).items()))\n",
    "\n",
    "#x_resampled, y_resampled = RandomOverSampler().fit_resample(X_train_pca, y_train)\n",
    "#print(sorted(Counter(y_resampled).items()))"
   ]
  },
  {
   "cell_type": "code",
   "execution_count": 395,
   "metadata": {},
   "outputs": [],
   "source": [
    "#rf = RandomForestClassifier(random_state=1337)\n",
    "rf = RandomForestClassifier(random_state=1337, criterion='entropy', max_depth=10, min_samples_split=15)\n",
    "#ad = AdaBoostClassifier(random_state=1337)"
   ]
  },
  {
   "cell_type": "code",
   "execution_count": 396,
   "metadata": {},
   "outputs": [],
   "source": [
    "#train best model\n",
    "clf = rf.fit(x_resampled, y_resampled)"
   ]
  },
  {
   "cell_type": "code",
   "execution_count": 387,
   "metadata": {},
   "outputs": [],
   "source": [
    "# HPO\n",
    "## Random Forest ##\n",
    "# parameters = {'max_depth':(10, 100), 'min_samples_split':[5, 15], 'criterion':['entropy','gini']}\n",
    "# clf = GridSearchCV(rf, parameters)\n",
    "# #clf.fit(X_train_pca, y_train_cat)\n",
    "# #clf.fit(X_train,y_train_bin)\n",
    "# clf.fit(x_resampled, y_resampled)\n",
    "# print(clf.best_score_)\n",
    "# print(clf.best_params_)\n",
    "\n",
    "## AdaBoost ##\n",
    "# parameters = {'n_estimators':[50, 100], 'learning_rate':[0.1, 1, 5]}\n",
    "# clf = GridSearchCV(ad, parameters)\n",
    "# #clf.fit(X_train_pca, y_train_bin)\n",
    "# clf.fit(X_train_autoencoder, y_train_cat)"
   ]
  },
  {
   "cell_type": "markdown",
   "metadata": {},
   "source": [
    "- With PCA(50 components):\n",
    "0.5405785123966942\n",
    "{'criterion': 'gini', 'max_depth': 100, 'min_samples_split': 15}\n",
    "- With PCA(100 components):\n",
    "0.5324380165289255\n",
    "{'criterion': 'entropy', 'max_depth': 10, 'min_samples_split': 15}\n",
    "- With PCA(200 components):\n",
    "0.5406749311294765\n",
    "{'criterion': 'entropy', 'max_depth': 10, 'min_samples_split': 15}\n",
    "- Adaboost/PCA (Multiclass):\n",
    "0.44278236914600555\n",
    "{'learning_rate': 0.1, 'n_estimators': 50}"
   ]
  },
  {
   "cell_type": "markdown",
   "metadata": {},
   "source": [
    "# Testing"
   ]
  },
  {
   "cell_type": "code",
   "execution_count": 397,
   "metadata": {},
   "outputs": [],
   "source": [
    "#transform test data\n",
    "X_tas_pca_test = pca_temp.transform(X_test[:,0:2321])\n",
    "X_psl_pca_test = pca_press.transform(X_test[:,2322:4643])\n",
    "X_test_pca = np.concatenate((X_tas_pca_test,X_psl_pca_test),axis=1)\n",
    "#y_test_bin = np.sign(y_test)\n",
    "#y_test_cat = kbin.transform(y_test.reshape(-1,1)).reshape(-1,)\n",
    "#print(pd.Series(y_test_cat).value_counts())"
   ]
  },
  {
   "cell_type": "code",
   "execution_count": 398,
   "metadata": {},
   "outputs": [],
   "source": [
    "y_pred = clf.predict(X_test_pca)"
   ]
  },
  {
   "cell_type": "code",
   "execution_count": 399,
   "metadata": {},
   "outputs": [
    {
     "data": {
      "text/plain": [
       "array([[  0,  20,   0],\n",
       "       [  0, 147,   0],\n",
       "       [  0,  13,   0]])"
      ]
     },
     "execution_count": 399,
     "metadata": {},
     "output_type": "execute_result"
    }
   ],
   "source": [
    "#confusion_matrix(y_test_cat,y_pred)\n",
    "confusion_matrix(y_test,y_pred)"
   ]
  },
  {
   "cell_type": "code",
   "execution_count": 400,
   "metadata": {},
   "outputs": [
    {
     "name": "stdout",
     "output_type": "stream",
     "text": [
      "F1 score: 0.2996941896024465\n"
     ]
    }
   ],
   "source": [
    "print('F1 score: '+str(f1_score(y_test, y_pred, average='macro')))"
   ]
  },
  {
   "cell_type": "markdown",
   "metadata": {},
   "source": [
    "# Try something else"
   ]
  },
  {
   "cell_type": "code",
   "execution_count": 405,
   "metadata": {},
   "outputs": [],
   "source": [
    "import keras\n",
    "from keras import layers\n",
    "from keras.optimizers import Adam"
   ]
  },
  {
   "cell_type": "code",
   "execution_count": 406,
   "metadata": {},
   "outputs": [],
   "source": [
    "encoding_dim = 32"
   ]
  },
  {
   "cell_type": "code",
   "execution_count": 409,
   "metadata": {},
   "outputs": [],
   "source": [
    "input_img = keras.Input(shape=(4644,))\n",
    "encoded = layers.Dense(encoding_dim, activation='relu')(input_img)\n",
    "decoded = layers.Dense(4644, activation='sigmoid')(encoded)\n",
    "autoencoder = keras.Model(input_img, decoded)\n",
    "encoder = keras.Model(input_img, encoded)\n",
    "encoded_input = keras.Input(shape=(encoding_dim,))\n",
    "decoder_layer = autoencoder.layers[-1]\n",
    "decoder = keras.Model(encoded_input, decoder_layer(encoded_input))\n",
    "customAdam = Adam(lr=0.001)\n",
    "autoencoder.compile(optimizer='adam', loss='binary_crossentropy')"
   ]
  },
  {
   "cell_type": "code",
   "execution_count": 410,
   "metadata": {},
   "outputs": [
    {
     "name": "stdout",
     "output_type": "stream",
     "text": [
      "Train on 720 samples, validate on 180 samples\n",
      "Epoch 1/100\n",
      "720/720 [==============================] - 1s 1ms/step - loss: 0.3867 - val_loss: -0.3301\n",
      "Epoch 2/100\n",
      "720/720 [==============================] - 0s 511us/step - loss: -1.2542 - val_loss: -2.0230\n",
      "Epoch 3/100\n",
      "720/720 [==============================] - 0s 366us/step - loss: -2.4340 - val_loss: -2.6804\n",
      "Epoch 4/100\n",
      "720/720 [==============================] - 0s 464us/step - loss: -2.9079 - val_loss: -3.0826\n",
      "Epoch 5/100\n",
      "720/720 [==============================] - 0s 654us/step - loss: -3.2697 - val_loss: -3.4257\n",
      "Epoch 6/100\n",
      "720/720 [==============================] - 0s 557us/step - loss: -3.5859 - val_loss: -3.7321\n",
      "Epoch 7/100\n",
      "720/720 [==============================] - 0s 556us/step - loss: -3.8765 - val_loss: -4.0190\n",
      "Epoch 8/100\n",
      "720/720 [==============================] - 0s 565us/step - loss: -4.1557 - val_loss: -4.2785\n",
      "Epoch 9/100\n",
      "720/720 [==============================] - 0s 405us/step - loss: -4.4066 - val_loss: -4.4873\n",
      "Epoch 10/100\n",
      "720/720 [==============================] - 0s 532us/step - loss: -4.6097 - val_loss: -4.6430\n",
      "Epoch 11/100\n",
      "720/720 [==============================] - 0s 590us/step - loss: -4.7679 - val_loss: -4.7545\n",
      "Epoch 12/100\n",
      "720/720 [==============================] - 1s 720us/step - loss: -4.8901 - val_loss: -4.8357\n",
      "Epoch 13/100\n",
      "720/720 [==============================] - 0s 692us/step - loss: -4.9894 - val_loss: -4.8994\n",
      "Epoch 14/100\n",
      "720/720 [==============================] - 0s 659us/step - loss: -5.0756 - val_loss: -4.9559\n",
      "Epoch 15/100\n",
      "720/720 [==============================] - 0s 600us/step - loss: -5.1541 - val_loss: -5.0082\n",
      "Epoch 16/100\n",
      "720/720 [==============================] - 0s 393us/step - loss: -5.2259 - val_loss: -5.0554\n",
      "Epoch 17/100\n",
      "720/720 [==============================] - 0s 482us/step - loss: -5.2899 - val_loss: -5.0970\n",
      "Epoch 18/100\n",
      "720/720 [==============================] - 0s 377us/step - loss: -5.3459 - val_loss: -5.1326\n",
      "Epoch 19/100\n",
      "720/720 [==============================] - 0s 385us/step - loss: -5.3952 - val_loss: -5.1644\n",
      "Epoch 20/100\n",
      "720/720 [==============================] - 0s 431us/step - loss: -5.4394 - val_loss: -5.1927\n",
      "Epoch 21/100\n",
      "720/720 [==============================] - 0s 534us/step - loss: -5.4795 - val_loss: -5.2181\n",
      "Epoch 22/100\n",
      "720/720 [==============================] - 0s 471us/step - loss: -5.5169 - val_loss: -5.2416\n",
      "Epoch 23/100\n",
      "720/720 [==============================] - 0s 577us/step - loss: -5.5517 - val_loss: -5.2641\n",
      "Epoch 24/100\n",
      "720/720 [==============================] - 0s 614us/step - loss: -5.5843 - val_loss: -5.2856\n",
      "Epoch 25/100\n",
      "720/720 [==============================] - 1s 741us/step - loss: -5.6149 - val_loss: -5.3069\n",
      "Epoch 26/100\n",
      "720/720 [==============================] - 0s 663us/step - loss: -5.6438 - val_loss: -5.3278\n",
      "Epoch 27/100\n",
      "720/720 [==============================] - 0s 402us/step - loss: -5.6712 - val_loss: -5.3477\n",
      "Epoch 28/100\n",
      "720/720 [==============================] - 0s 471us/step - loss: -5.6971 - val_loss: -5.3668\n",
      "Epoch 29/100\n",
      "720/720 [==============================] - 0s 501us/step - loss: -5.7214 - val_loss: -5.3851\n",
      "Epoch 30/100\n",
      "720/720 [==============================] - 0s 447us/step - loss: -5.7440 - val_loss: -5.4021\n",
      "Epoch 31/100\n",
      "720/720 [==============================] - 0s 542us/step - loss: -5.7651 - val_loss: -5.4178\n",
      "Epoch 32/100\n",
      "720/720 [==============================] - 0s 537us/step - loss: -5.7848 - val_loss: -5.4326\n",
      "Epoch 33/100\n",
      "720/720 [==============================] - 0s 317us/step - loss: -5.8030 - val_loss: -5.4463\n",
      "Epoch 34/100\n",
      "720/720 [==============================] - 0s 587us/step - loss: -5.8201 - val_loss: -5.4585\n",
      "Epoch 35/100\n",
      "720/720 [==============================] - 1s 776us/step - loss: -5.8358 - val_loss: -5.4698\n",
      "Epoch 36/100\n",
      "720/720 [==============================] - 0s 400us/step - loss: -5.8504 - val_loss: -5.4803\n",
      "Epoch 37/100\n",
      "720/720 [==============================] - 0s 479us/step - loss: -5.8641 - val_loss: -5.4899\n",
      "Epoch 38/100\n",
      "720/720 [==============================] - 0s 506us/step - loss: -5.8768 - val_loss: -5.4984\n",
      "Epoch 39/100\n",
      "720/720 [==============================] - 0s 502us/step - loss: -5.8887 - val_loss: -5.5062\n",
      "Epoch 40/100\n",
      "720/720 [==============================] - 0s 634us/step - loss: -5.8999 - val_loss: -5.5132\n",
      "Epoch 41/100\n",
      "720/720 [==============================] - 0s 525us/step - loss: -5.9104 - val_loss: -5.5197\n",
      "Epoch 42/100\n",
      "720/720 [==============================] - 0s 515us/step - loss: -5.9201 - val_loss: -5.5254\n",
      "Epoch 43/100\n",
      "720/720 [==============================] - 1s 727us/step - loss: -5.9294 - val_loss: -5.5310\n",
      "Epoch 44/100\n",
      "720/720 [==============================] - 0s 600us/step - loss: -5.9382 - val_loss: -5.5358\n",
      "Epoch 45/100\n",
      "720/720 [==============================] - 0s 442us/step - loss: -5.9466 - val_loss: -5.5407\n",
      "Epoch 46/100\n",
      "720/720 [==============================] - 0s 474us/step - loss: -5.9544 - val_loss: -5.5453\n",
      "Epoch 47/100\n",
      "720/720 [==============================] - 0s 462us/step - loss: -5.9619 - val_loss: -5.5491\n",
      "Epoch 48/100\n",
      "720/720 [==============================] - 0s 690us/step - loss: -5.9691 - val_loss: -5.5527\n",
      "Epoch 49/100\n",
      "720/720 [==============================] - 1s 718us/step - loss: -5.9759 - val_loss: -5.5563\n",
      "Epoch 50/100\n",
      "720/720 [==============================] - 0s 540us/step - loss: -5.9824 - val_loss: -5.5594\n",
      "Epoch 51/100\n",
      "720/720 [==============================] - 1s 713us/step - loss: -5.9887 - val_loss: -5.5624\n",
      "Epoch 52/100\n",
      "720/720 [==============================] - 0s 606us/step - loss: -5.9948 - val_loss: -5.5654\n",
      "Epoch 53/100\n",
      "720/720 [==============================] - 0s 575us/step - loss: -6.0006 - val_loss: -5.5682\n",
      "Epoch 54/100\n",
      "720/720 [==============================] - 0s 523us/step - loss: -6.0063 - val_loss: -5.5707\n",
      "Epoch 55/100\n",
      "720/720 [==============================] - 0s 649us/step - loss: -6.0116 - val_loss: -5.5735\n",
      "Epoch 56/100\n",
      "720/720 [==============================] - 3s 4ms/step - loss: -6.0169 - val_loss: -5.5759\n",
      "Epoch 57/100\n",
      "720/720 [==============================] - 1s 1ms/step - loss: -6.0220 - val_loss: -5.5780\n",
      "Epoch 58/100\n",
      "720/720 [==============================] - 1s 968us/step - loss: -6.0267 - val_loss: -5.5802\n",
      "Epoch 59/100\n",
      "720/720 [==============================] - 1s 969us/step - loss: -6.0314 - val_loss: -5.5823\n",
      "Epoch 60/100\n",
      "720/720 [==============================] - 1s 853us/step - loss: -6.0358 - val_loss: -5.5842\n",
      "Epoch 61/100\n",
      "720/720 [==============================] - 1s 793us/step - loss: -6.0402 - val_loss: -5.5861\n",
      "Epoch 62/100\n",
      "720/720 [==============================] - 1s 932us/step - loss: -6.0444 - val_loss: -5.5878\n",
      "Epoch 63/100\n",
      "720/720 [==============================] - 1s 908us/step - loss: -6.0483 - val_loss: -5.5894\n",
      "Epoch 64/100\n",
      "720/720 [==============================] - 1s 938us/step - loss: -6.0523 - val_loss: -5.5908\n",
      "Epoch 65/100\n",
      "720/720 [==============================] - 1s 859us/step - loss: -6.0561 - val_loss: -5.5920\n",
      "Epoch 66/100\n",
      "720/720 [==============================] - 1s 980us/step - loss: -6.0598 - val_loss: -5.5932\n",
      "Epoch 67/100\n",
      "720/720 [==============================] - 1s 884us/step - loss: -6.0634 - val_loss: -5.5945\n",
      "Epoch 68/100\n",
      "720/720 [==============================] - 1s 891us/step - loss: -6.0669 - val_loss: -5.5955\n",
      "Epoch 69/100\n",
      "720/720 [==============================] - 1s 942us/step - loss: -6.0703 - val_loss: -5.5965\n",
      "Epoch 70/100\n",
      "720/720 [==============================] - 1s 803us/step - loss: -6.0736 - val_loss: -5.5976\n",
      "Epoch 71/100\n",
      "720/720 [==============================] - 1s 837us/step - loss: -6.0767 - val_loss: -5.5987\n",
      "Epoch 72/100\n",
      "720/720 [==============================] - 1s 809us/step - loss: -6.0799 - val_loss: -5.5993\n",
      "Epoch 73/100\n",
      "720/720 [==============================] - 1s 729us/step - loss: -6.0829 - val_loss: -5.6002\n",
      "Epoch 74/100\n",
      "720/720 [==============================] - 1s 854us/step - loss: -6.0858 - val_loss: -5.6006\n",
      "Epoch 75/100\n",
      "720/720 [==============================] - 1s 856us/step - loss: -6.0887 - val_loss: -5.6009\n",
      "Epoch 76/100\n",
      "720/720 [==============================] - 1s 902us/step - loss: -6.0914 - val_loss: -5.6018\n",
      "Epoch 77/100\n",
      "720/720 [==============================] - 1s 843us/step - loss: -6.0942 - val_loss: -5.6020\n",
      "Epoch 78/100\n",
      "720/720 [==============================] - 1s 861us/step - loss: -6.0967 - val_loss: -5.6024\n",
      "Epoch 79/100\n",
      "720/720 [==============================] - 1s 855us/step - loss: -6.0994 - val_loss: -5.6026\n",
      "Epoch 80/100\n",
      "720/720 [==============================] - 1s 1ms/step - loss: -6.1019 - val_loss: -5.6031\n",
      "Epoch 81/100\n",
      "720/720 [==============================] - 1s 798us/step - loss: -6.1043 - val_loss: -5.6033\n",
      "Epoch 82/100\n",
      "720/720 [==============================] - 1s 849us/step - loss: -6.1067 - val_loss: -5.6034\n",
      "Epoch 83/100\n",
      "720/720 [==============================] - 1s 773us/step - loss: -6.1092 - val_loss: -5.6034\n",
      "Epoch 84/100\n",
      "720/720 [==============================] - 1s 764us/step - loss: -6.1114 - val_loss: -5.6031\n",
      "Epoch 85/100\n",
      "720/720 [==============================] - 1s 810us/step - loss: -6.1137 - val_loss: -5.6034\n",
      "Epoch 86/100\n",
      "720/720 [==============================] - 1s 953us/step - loss: -6.1158 - val_loss: -5.6032\n",
      "Epoch 87/100\n",
      "720/720 [==============================] - 1s 844us/step - loss: -6.1180 - val_loss: -5.6034\n",
      "Epoch 88/100\n",
      "720/720 [==============================] - 1s 947us/step - loss: -6.1201 - val_loss: -5.6031\n",
      "Epoch 89/100\n",
      "720/720 [==============================] - 1s 826us/step - loss: -6.1222 - val_loss: -5.6031\n",
      "Epoch 90/100\n",
      "720/720 [==============================] - 1s 855us/step - loss: -6.1243 - val_loss: -5.6029\n",
      "Epoch 91/100\n",
      "720/720 [==============================] - 0s 530us/step - loss: -6.1263 - val_loss: -5.6027\n",
      "Epoch 92/100\n",
      "720/720 [==============================] - 0s 496us/step - loss: -6.1283 - val_loss: -5.6026\n",
      "Epoch 93/100\n",
      "720/720 [==============================] - 0s 689us/step - loss: -6.1303 - val_loss: -5.6023\n",
      "Epoch 94/100\n",
      "720/720 [==============================] - 0s 526us/step - loss: -6.1323 - val_loss: -5.6022\n",
      "Epoch 95/100\n",
      "720/720 [==============================] - 0s 399us/step - loss: -6.1342 - val_loss: -5.6018\n",
      "Epoch 96/100\n",
      "720/720 [==============================] - 0s 357us/step - loss: -6.1362 - val_loss: -5.6014\n",
      "Epoch 97/100\n",
      "720/720 [==============================] - 0s 364us/step - loss: -6.1381 - val_loss: -5.6013\n",
      "Epoch 98/100\n",
      "720/720 [==============================] - 0s 465us/step - loss: -6.1399 - val_loss: -5.6009\n",
      "Epoch 99/100\n",
      "720/720 [==============================] - 0s 527us/step - loss: -6.1418 - val_loss: -5.6003\n",
      "Epoch 100/100\n",
      "720/720 [==============================] - 0s 415us/step - loss: -6.1436 - val_loss: -5.6002\n"
     ]
    },
    {
     "data": {
      "text/plain": [
       "<keras.callbacks.History at 0x7f65900c0ba8>"
      ]
     },
     "execution_count": 410,
     "metadata": {},
     "output_type": "execute_result"
    }
   ],
   "source": [
    "autoencoder.fit(X_train, X_train, epochs=100, batch_size=50, shuffle=False, validation_data=(X_test, X_test))"
   ]
  },
  {
   "cell_type": "code",
   "execution_count": 267,
   "metadata": {},
   "outputs": [],
   "source": [
    "X_train_autoencoder = encoder.predict(X_train)"
   ]
  }
 ],
 "metadata": {
  "kernelspec": {
   "display_name": "datathon",
   "language": "python",
   "name": "datathon"
  },
  "language_info": {
   "codemirror_mode": {
    "name": "ipython",
    "version": 3
   },
   "file_extension": ".py",
   "mimetype": "text/x-python",
   "name": "python",
   "nbconvert_exporter": "python",
   "pygments_lexer": "ipython3",
   "version": "3.6.8"
  }
 },
 "nbformat": 4,
 "nbformat_minor": 4
}
