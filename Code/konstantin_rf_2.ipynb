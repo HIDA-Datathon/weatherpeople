{
 "cells": [
  {
   "cell_type": "code",
   "execution_count": 43,
   "metadata": {},
   "outputs": [],
   "source": [
    "import numpy as np\n",
    "from sklearn.decomposition import PCA\n",
    "import pandas as pd\n",
    "from sklearn.preprocessing import KBinsDiscretizer\n",
    "from sklearn.model_selection import train_test_split\n"
   ]
  },
  {
   "cell_type": "code",
   "execution_count": 44,
   "metadata": {},
   "outputs": [],
   "source": [
    "y_path = Path.cwd().parent.joinpath(\"Data\",\"nao_index_train.npy\")\n",
    "tas_path = Path.cwd().parent.joinpath(\"Data\",\"tas_train.npy\") #temperature average of autmn per year\n",
    "tsl_path= Path.cwd().parent.joinpath(\"Data\",\"psl_train.npy\") #sea level pressure average of autmn per year\n",
    "\n",
    "\n",
    "y_train=np.load(y_path)\n",
    "tas_train=np.load(tas_path)\n",
    "tsl_train=np.load(tsl_path)\n"
   ]
  },
  {
   "cell_type": "code",
   "execution_count": 45,
   "metadata": {},
   "outputs": [
    {
     "data": {
      "text/plain": [
       "(900, 2322)"
      ]
     },
     "execution_count": 45,
     "metadata": {},
     "output_type": "execute_result"
    }
   ],
   "source": [
    "tas_train.shape"
   ]
  },
  {
   "cell_type": "code",
   "execution_count": 46,
   "metadata": {},
   "outputs": [],
   "source": [
    "#define parameters here\n",
    "n_comp=50 #how many principal components do you want"
   ]
  },
  {
   "cell_type": "code",
   "execution_count": 47,
   "metadata": {},
   "outputs": [],
   "source": [
    "pca= PCA(n_components=n_comp)"
   ]
  },
  {
   "cell_type": "code",
   "execution_count": 58,
   "metadata": {},
   "outputs": [],
   "source": [
    "temp_trans= pca.fit_transform(tas_train)"
   ]
  },
  {
   "cell_type": "code",
   "execution_count": 50,
   "metadata": {},
   "outputs": [
    {
     "name": "stdout",
     "output_type": "stream",
     "text": [
      "[0.139324   0.08886949 0.08387699 0.06725111 0.05784979 0.04628902\n",
      " 0.04110706 0.03692171 0.0271803  0.02323685 0.02261667 0.02123957\n",
      " 0.01944782 0.01610227 0.01520486 0.01439683 0.01356993 0.0122921\n",
      " 0.01148158 0.01075819 0.00956839 0.00779558 0.0072168  0.00705343\n",
      " 0.00634401 0.00613418 0.00562966 0.00522838 0.00477947 0.00455712\n",
      " 0.00425549 0.00418571 0.00402752 0.0039618  0.0036004  0.00336402\n",
      " 0.00314784 0.00312428 0.00296508 0.00289865 0.00271182 0.00261065\n",
      " 0.00256196 0.0024637  0.0023709  0.00227429 0.0021784  0.00212355\n",
      " 0.00208906 0.0019642 ]\n"
     ]
    }
   ],
   "source": [
    "print(pca.explained_variance_ratio_)"
   ]
  },
  {
   "cell_type": "code",
   "execution_count": 59,
   "metadata": {},
   "outputs": [],
   "source": [
    "pca_tsl=PCA(n_components=n_comp)\n",
    "tsl_trans = pca_tsl.fit_transform(tsl_train)"
   ]
  },
  {
   "cell_type": "code",
   "execution_count": 38,
   "metadata": {},
   "outputs": [
    {
     "name": "stdout",
     "output_type": "stream",
     "text": [
      "[0.30490791 0.18400934 0.07381419 0.06671203 0.06166861 0.05263237\n",
      " 0.03733528 0.0288457  0.02491261 0.01680746 0.01616275 0.01394154\n",
      " 0.01269437 0.01039641 0.00871227 0.00683595 0.0065405  0.00577146\n",
      " 0.00498761 0.00454754 0.00414056 0.0035176  0.00308141 0.00295469\n",
      " 0.00262907 0.00232871 0.00223747 0.00216999 0.00185604 0.00157332\n",
      " 0.00155057 0.00140081 0.0013316  0.00123748 0.0011494  0.00108885\n",
      " 0.00104446 0.0009467  0.00085657 0.00080332 0.00074315 0.00071773\n",
      " 0.00067387 0.00063727 0.00059262 0.00057116 0.00054759 0.0005225\n",
      " 0.00047928 0.0004601 ]\n"
     ]
    }
   ],
   "source": [
    "print(pca_tsl.explained_variance_ratio_)"
   ]
  },
  {
   "cell_type": "code",
   "execution_count": 39,
   "metadata": {},
   "outputs": [
    {
     "name": "stdout",
     "output_type": "stream",
     "text": [
      "0.9860798065243481\n"
     ]
    }
   ],
   "source": [
    "print(pca_tsl.explained_variance_ratio_.sum())"
   ]
  },
  {
   "cell_type": "code",
   "execution_count": 81,
   "metadata": {},
   "outputs": [],
   "source": [
    "#Random forest first try\n",
    "from sklearn.ensemble import RandomForestClassifier\n",
    "from sklearn.feature_selection import SelectFromModel\n",
    "from sklearn.model_selection import cross_val_score\n",
    "from sklearn.metrics import f1_score\n",
    "from sklearn.metrics import make_scorer\n",
    "import sklearn.metrics\n",
    "\n",
    "\n"
   ]
  },
  {
   "cell_type": "code",
   "execution_count": 57,
   "metadata": {},
   "outputs": [
    {
     "name": "stdout",
     "output_type": "stream",
     "text": [
      "PCA(n_components=50)\n"
     ]
    }
   ],
   "source": []
  },
  {
   "cell_type": "code",
   "execution_count": 60,
   "metadata": {},
   "outputs": [],
   "source": [
    "pca_train=np.concatenate([temp_trans, tsl_trans], axis=1)\n",
    "binary_labels = np.sign(y_train)"
   ]
  },
  {
   "cell_type": "code",
   "execution_count": 67,
   "metadata": {},
   "outputs": [],
   "source": [
    "rf_def = RandomForestClassifier(random_state=1337,criterion=\"entropy\",) "
   ]
  },
  {
   "cell_type": "code",
   "execution_count": 68,
   "metadata": {},
   "outputs": [
    {
     "data": {
      "text/plain": [
       "RandomForestClassifier(criterion='entropy', random_state=1337)"
      ]
     },
     "execution_count": 68,
     "metadata": {},
     "output_type": "execute_result"
    }
   ],
   "source": [
    "rf_def.fit(pca_train,binary_labels)"
   ]
  },
  {
   "cell_type": "code",
   "execution_count": 82,
   "metadata": {},
   "outputs": [],
   "source": [
    "scores=cross_val_score(rf_def, pca_train, binary_labels, cv=10,n_jobs=-1,scoring=make_scorer(f1_score))"
   ]
  },
  {
   "cell_type": "code",
   "execution_count": 83,
   "metadata": {},
   "outputs": [
    {
     "data": {
      "text/plain": [
       "0.6351915791034901"
      ]
     },
     "execution_count": 83,
     "metadata": {},
     "output_type": "execute_result"
    }
   ],
   "source": [
    "scores.mean()"
   ]
  },
  {
   "cell_type": "code",
   "execution_count": null,
   "metadata": {},
   "outputs": [],
   "source": []
  }
 ],
 "metadata": {
  "kernelspec": {
   "display_name": "Python 3",
   "language": "python",
   "name": "python3"
  },
  "language_info": {
   "codemirror_mode": {
    "name": "ipython",
    "version": 3
   },
   "file_extension": ".py",
   "mimetype": "text/x-python",
   "name": "python",
   "nbconvert_exporter": "python",
   "pygments_lexer": "ipython3",
   "version": "3.8.5"
  }
 },
 "nbformat": 4,
 "nbformat_minor": 4
}
