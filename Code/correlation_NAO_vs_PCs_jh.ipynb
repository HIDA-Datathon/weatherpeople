{
 "cells": [
  {
   "cell_type": "code",
   "execution_count": null,
   "metadata": {},
   "outputs": [],
   "source": [
    "import numpy as np\n",
    "import matplotlib.pyplot as plt\n",
    "from sklearn.decomposition import PCA\n",
    "from sklearn import preprocessing\n",
    "#from sklearn.model_selection import KFold"
   ]
  },
  {
   "cell_type": "code",
   "execution_count": null,
   "metadata": {},
   "outputs": [],
   "source": [
    "x1 = np.load('../Data/tas_train.npy')\n",
    "x2 = np.load('../Data/psl_train.npy')\n",
    "y = np.load('../Data/nao_index_train.npy')"
   ]
  },
  {
   "cell_type": "code",
   "execution_count": null,
   "metadata": {},
   "outputs": [],
   "source": [
    "n_comp_pca = 50\n",
    "pca = PCA(n_components=n_comp_pca)"
   ]
  },
  {
   "cell_type": "code",
   "execution_count": null,
   "metadata": {
    "scrolled": true
   },
   "outputs": [],
   "source": [
    "pca.fit(np.transpose(x1))\n",
    "x1_reduced = pca.transform(np.transpose(x1))\n",
    "pc_x1 = pca.components_"
   ]
  },
  {
   "cell_type": "code",
   "execution_count": null,
   "metadata": {},
   "outputs": [],
   "source": [
    "np.transpose(x1).shape, pc_x1.shape"
   ]
  },
  {
   "cell_type": "code",
   "execution_count": null,
   "metadata": {
    "scrolled": true
   },
   "outputs": [],
   "source": [
    "print(pca.explained_variance_ratio_.sum())"
   ]
  },
  {
   "cell_type": "code",
   "execution_count": null,
   "metadata": {},
   "outputs": [],
   "source": [
    "pca.fit(np.transpose(x2))\n",
    "x2_reduced = pca.transform(np.transpose(x2))\n",
    "pc_x2 = pca.components_"
   ]
  },
  {
   "cell_type": "code",
   "execution_count": null,
   "metadata": {
    "scrolled": true
   },
   "outputs": [],
   "source": [
    "print(pca.explained_variance_ratio_.sum())"
   ]
  },
  {
   "cell_type": "code",
   "execution_count": null,
   "metadata": {},
   "outputs": [],
   "source": [
    "np.transpose(x2).shape, pc_x2.shape"
   ]
  },
  {
   "cell_type": "code",
   "execution_count": null,
   "metadata": {},
   "outputs": [],
   "source": [
    "# scale data\n",
    "pc_x1_scaler = preprocessing.MinMaxScaler(feature_range=(-3, 3))\n",
    "pc_x2_scaler = preprocessing.MinMaxScaler(feature_range=(-3, 3))\n",
    "pc_x1 = (pc_x1_scaler.fit_transform(pc_x1))\n",
    "pc_x2 = (pc_x2_scaler.fit_transform(pc_x2))"
   ]
  },
  {
   "cell_type": "code",
   "execution_count": null,
   "metadata": {},
   "outputs": [],
   "source": [
    "pc_x1.shape"
   ]
  },
  {
   "cell_type": "code",
   "execution_count": null,
   "metadata": {
    "scrolled": true
   },
   "outputs": [],
   "source": [
    "# get time dimension\n",
    "D = x1.shape[0]\n",
    "D"
   ]
  },
  {
   "cell_type": "code",
   "execution_count": null,
   "metadata": {},
   "outputs": [],
   "source": [
    "# define time data as index vector\n",
    "X = np.array(range(0, D))\n",
    "X = X.astype('float32')"
   ]
  },
  {
   "cell_type": "code",
   "execution_count": null,
   "metadata": {
    "scrolled": true
   },
   "outputs": [],
   "source": [
    "# plot data + principal component of first EOF\n",
    "plt.plot(X[0:50],y[0:50], 'k')\n",
    "plt.plot(X[0:50],pc_x1[0,0:50], '-b');\n",
    "plt.plot(X[0:50],pc_x2[0,0:50], '-r');"
   ]
  },
  {
   "cell_type": "code",
   "execution_count": null,
   "metadata": {},
   "outputs": [],
   "source": [
    "# correlation of NAO vs. principal components\n",
    "#np.array(y)\n",
    "y_pc_x1 = np.concatenate([np.reshape(y,[900,1]),np.transpose(pc_x1)], axis=1)\n",
    "y_pc_x2 = np.concatenate([np.reshape(y,[900,1]),np.transpose(pc_x2)], axis=1)\n",
    "cc_1 = np.corrcoef(y_pc_x1, y=None, rowvar=False)\n",
    "cc_2 = np.corrcoef(y_pc_x2, y=None, rowvar=False)\n",
    "cc_1.shape"
   ]
  },
  {
   "cell_type": "code",
   "execution_count": null,
   "metadata": {},
   "outputs": [],
   "source": [
    "# plot correlations\n",
    "X_pc = np.array(range(1, cc_1.shape[0]))\n",
    "plt.plot(X_pc, cc_1[0,1:], 'b', label='NAO vs PC (tas)')\n",
    "plt.plot(X_pc, cc_2[0,1:], 'r', label='NAO vs PC (slp)')\n",
    "plt.title ('Correlation of NAO index vs Principal Components')\n",
    "plt.xlabel ('# of EOF')\n",
    "plt.ylabel ('Correlation')\n",
    "plt.legend()\n",
    "plt.savefig('../Plots/correlation_NAO_vs_PCs.pdf')\n"
   ]
  }
 ],
 "metadata": {
  "kernelspec": {
   "display_name": "Python 3",
   "language": "python",
   "name": "python3"
  },
  "language_info": {
   "codemirror_mode": {
    "name": "ipython",
    "version": 3
   },
   "file_extension": ".py",
   "mimetype": "text/x-python",
   "name": "python",
   "nbconvert_exporter": "python",
   "pygments_lexer": "ipython3",
   "version": "3.7.6"
  }
 },
 "nbformat": 4,
 "nbformat_minor": 2
}
