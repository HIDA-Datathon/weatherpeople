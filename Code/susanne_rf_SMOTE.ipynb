{
 "cells": [
  {
   "cell_type": "code",
   "execution_count": 48,
   "metadata": {},
   "outputs": [],
   "source": [
    "import imblearn\n",
    "import numpy as np\n",
    "from sklearn.decomposition import PCA\n",
    "from pathlib import Path\n",
    "import pandas as pd\n",
    "from sklearn.preprocessing import KBinsDiscretizer\n",
    "from sklearn.model_selection import train_test_split\n",
    "import matplotlib\n",
    "from imblearn.over_sampling import SMOTE\n",
    "from collections import Counter\n",
    "from sklearn.ensemble import RandomForestClassifier\n",
    "from sklearn.feature_selection import SelectFromModel\n",
    "from sklearn.model_selection import cross_val_score\n",
    "from sklearn.metrics import f1_score\n",
    "from sklearn.metrics import make_scorer\n",
    "import sklearn.metrics\n",
    "from sklearn.metrics import accuracy_score\n",
    "\n",
    "n_comp = 50"
   ]
  },
  {
   "cell_type": "code",
   "execution_count": 18,
   "metadata": {},
   "outputs": [],
   "source": [
    "y_path = Path.cwd().parent.joinpath(\"Data\", \"Split\", \"y_train_3cat.npy\")\n",
    "y_train=np.load(y_path)\n"
   ]
  },
  {
   "cell_type": "code",
   "execution_count": 19,
   "metadata": {},
   "outputs": [],
   "source": [
    "x_path = Path.cwd().parent.joinpath(\"Data\", \"Split\", \"X_train_3cat.npy\") #temperature average of autmn per year\n",
    "x_train=np.load(x_path)"
   ]
  },
  {
   "cell_type": "code",
   "execution_count": 20,
   "metadata": {},
   "outputs": [
    {
     "name": "stdout",
     "output_type": "stream",
     "text": [
      "[-1.  0.  1.]\n"
     ]
    }
   ],
   "source": [
    "# Test\n",
    "print(np.unique(y_train))\n"
   ]
  },
  {
   "cell_type": "code",
   "execution_count": 21,
   "metadata": {},
   "outputs": [
    {
     "name": "stdout",
     "output_type": "stream",
     "text": [
      "[(-1.0, 625), (0.0, 625), (1.0, 625)]\n"
     ]
    }
   ],
   "source": [
    "random.seed(1234)\n",
    "x_resampled, y_resampled = SMOTE().fit_resample(x_train, y_train)\n",
    "print(sorted(Counter(y_resampled).items()))"
   ]
  },
  {
   "cell_type": "code",
   "execution_count": 25,
   "metadata": {},
   "outputs": [],
   "source": [
    "temp = x_resampled[:, np.arange(0, 2322)]\n",
    "pres = x_resampled[:, np.arange(2322, 4644)]"
   ]
  },
  {
   "cell_type": "code",
   "execution_count": 30,
   "metadata": {},
   "outputs": [
    {
     "name": "stdout",
     "output_type": "stream",
     "text": [
      "[0.32396272 0.18286659 0.08369375 0.06707524 0.05845859 0.05321015\n",
      " 0.03146512 0.02617238 0.0209466  0.01683805 0.01483621 0.01394361\n",
      " 0.01176311 0.01056928 0.00878109 0.00750363 0.00536576 0.00519351\n",
      " 0.00436283 0.0036514  0.00359991 0.00296476 0.00280353 0.00257388\n",
      " 0.0023593  0.00222928 0.00210371 0.00181239 0.00155596 0.00139508\n",
      " 0.00130105 0.00120455 0.00116817 0.00112541 0.00101407 0.00092172\n",
      " 0.00090929 0.00085133 0.00077027 0.00072939 0.000665   0.0006555\n",
      " 0.000573   0.00050327 0.00049986 0.00047601 0.00046331 0.00045106\n",
      " 0.00043742 0.00040184]\n",
      "0.9891789540574288\n",
      "[0.14592806 0.0942782  0.08846457 0.07215747 0.05910491 0.04635813\n",
      " 0.03969103 0.03397051 0.02864779 0.02424478 0.02328634 0.02204857\n",
      " 0.0175336  0.01667896 0.01573712 0.01472072 0.01273879 0.01226708\n",
      " 0.01108323 0.01033048 0.00975246 0.00874076 0.00767959 0.00709289\n",
      " 0.00645556 0.00637758 0.00541833 0.00502915 0.00476623 0.0046127\n",
      " 0.00447916 0.00416125 0.00409097 0.00382959 0.00365939 0.00329483\n",
      " 0.00315246 0.00309855 0.0029987  0.00286921 0.00284387 0.00259447\n",
      " 0.00249271 0.00238861 0.00238039 0.00217877 0.00213123 0.00202478\n",
      " 0.00197295 0.00177498]\n",
      "0.9136124394835737\n",
      "(1875, 50)\n",
      "(1875, 50)\n"
     ]
    }
   ],
   "source": [
    "pca= PCA(n_components=n_comp)\n",
    "temp_trans= pca.fit_transform(temp)\n",
    "sum(pca.explained_variance_ratio_)\n",
    "pca_pres=PCA(n_components=n_comp)\n",
    "pres_trans = pca_pres.fit_transform(pres)\n",
    "print(pca_pres.explained_variance_ratio_)\n",
    "print(pca_pres.explained_variance_ratio_.sum())\n",
    "print(pca.explained_variance_ratio_)\n",
    "print(pca.explained_variance_ratio_.sum())\n",
    "print(pres_trans.shape)\n",
    "print(temp_trans.shape)\n",
    "pca_train = np.concatenate([temp_trans, pres_trans], axis=1)"
   ]
  },
  {
   "cell_type": "code",
   "execution_count": 60,
   "metadata": {},
   "outputs": [
    {
     "name": "stdout",
     "output_type": "stream",
     "text": [
      "Fitting 3 folds for each of 10 candidates, totalling 30 fits\n"
     ]
    },
    {
     "name": "stderr",
     "output_type": "stream",
     "text": [
      "[Parallel(n_jobs=-1)]: Using backend LokyBackend with 256 concurrent workers.\n",
      "[Parallel(n_jobs=-1)]: Done  15 out of  30 | elapsed:  1.3min remaining:  1.3min\n",
      "[Parallel(n_jobs=-1)]: Done  30 out of  30 | elapsed:  1.5min finished\n"
     ]
    },
    {
     "data": {
      "text/plain": [
       "RandomizedSearchCV(cv=3, estimator=RandomForestClassifier(), n_jobs=-1,\n",
       "                   param_distributions={'n_estimators': [200, 400, 600, 800,\n",
       "                                                         1000, 1200, 1400, 1600,\n",
       "                                                         1800, 2000]},\n",
       "                   random_state=42, verbose=2)"
      ]
     },
     "execution_count": 60,
     "metadata": {},
     "output_type": "execute_result"
    }
   ],
   "source": [
    "from sklearn.model_selection import RandomizedSearchCV\n",
    "rf = RandomForestClassifier()\n",
    "n_estimators = [int(x) for x in np.linspace(start = 200, stop = 2000, num = 10)]\n",
    "random_grid = {'n_estimators': n_estimators}\n",
    "rf_random = RandomizedSearchCV(estimator = rf, param_distributions = random_grid, \n",
    "                               n_iter = 10, cv = 3, verbose=2, random_state=42, n_jobs = -1)\n",
    "rf_random.fit(pca_train, y_resampled)"
   ]
  },
  {
   "cell_type": "code",
   "execution_count": 67,
   "metadata": {},
   "outputs": [
    {
     "data": {
      "text/plain": [
       "RandomForestClassifier(n_estimators=400)"
      ]
     },
     "execution_count": 67,
     "metadata": {},
     "output_type": "execute_result"
    }
   ],
   "source": [
    "n_estimators = rf_random.best_params_['n_estimators']\n",
    "base_model = RandomForestClassifier(n_estimators = n_estimators)\n",
    "base_model.fit(pca_train, y_resampled)"
   ]
  },
  {
   "cell_type": "code",
   "execution_count": 68,
   "metadata": {},
   "outputs": [
    {
     "data": {
      "text/plain": [
       "array([0.97654584, 0.99039488])"
      ]
     },
     "execution_count": 68,
     "metadata": {},
     "output_type": "execute_result"
    }
   ],
   "source": [
    "scores=cross_val_score(rf, pca_train, y_resampled, cv=2,n_jobs=-1)\n",
    "scores"
   ]
  },
  {
   "cell_type": "code",
   "execution_count": 70,
   "metadata": {},
   "outputs": [],
   "source": [
    "# TEST: \n",
    "y_path = Path.cwd().parent.joinpath(\"Data\", \"Split\", \"y_test_3cat.npy\")\n",
    "y_test=np.load(y_path)\n",
    "x_path = Path.cwd().parent.joinpath(\"Data\", \"Split\", \"X_test_3cat.npy\") #temperature average of autmn per year\n",
    "x_test=np.load(x_path)\n",
    "\n",
    "# PCA \n",
    "temp_test = x_test[:, np.arange(0, 2322)]\n",
    "pres_test = x_test[:, np.arange(2322, 4644)]\n",
    "temp_test_tf = pca.transform(temp_test)\n",
    "pres_test_tf = pca_pres.transform(pres_test)\n",
    "pca_test = np.concatenate([temp_test_tf, pres_test_tf], axis=1)"
   ]
  },
  {
   "cell_type": "code",
   "execution_count": 71,
   "metadata": {},
   "outputs": [
    {
     "name": "stdout",
     "output_type": "stream",
     "text": [
      "[0. 0. 0. 0. 0. 0. 0. 0. 0. 0. 0. 0. 0. 0. 0. 0. 0. 0. 0. 0. 0. 0. 0. 0.\n",
      " 0. 0. 0. 0. 0. 0. 0. 0. 0. 0. 0. 0. 0. 0. 0. 0. 0. 0. 0. 0. 0. 0. 0. 0.\n",
      " 0. 0. 0. 0. 0. 0. 0. 0. 0. 0. 0. 0. 0. 0. 0. 0. 0. 0. 0. 0. 0. 0. 0. 0.\n",
      " 0. 0. 0. 0. 0. 0. 0. 0. 0. 0. 0. 0. 0. 0. 0. 0. 0. 0. 0. 0. 0. 0. 0. 0.\n",
      " 0. 0. 0. 0. 0. 0. 0. 0. 0. 0. 0. 0. 0. 0. 0. 0. 0. 0. 0. 0. 0. 0. 0. 0.\n",
      " 0. 0. 0. 0. 0. 0. 0. 0. 0. 0. 0. 0. 0. 0. 0. 0. 0. 0. 0. 0. 0. 0. 0. 0.\n",
      " 0. 0. 0. 0. 0. 0. 0. 0. 0. 0. 0. 0. 0. 0. 0. 0. 0. 0. 0. 0. 0. 0. 0. 0.\n",
      " 0. 0. 0. 0. 0. 0. 0. 0. 0. 0. 0. 0.]\n",
      "[ 0.  0.  0.  0.  0.  0.  0.  0. -1.  0.  0. -1.  1.  0.  0.  0. -1.  0.\n",
      "  0. -1.  0.  0.  0.  0.  0.  0.  0. -1.  0.  1.  0.  0.  0.  0.  0.  0.\n",
      "  0.  1.  0.  0.  0.  0.  0.  0.  1.  0.  0.  1.  0.  1.  0.  1.  0.  0.\n",
      " -1.  0.  0.  0.  0.  0.  0.  0.  0.  0.  0.  0.  0.  0.  0.  0.  0. -1.\n",
      "  0.  0.  1.  0.  0. -1.  0.  0.  1.  0.  0.  0. -1.  0.  0.  0.  1.  0.\n",
      "  0.  0.  0.  0.  0.  0.  0.  0.  0.  0.  0.  1.  0.  0.  0.  0.  0.  0.\n",
      "  0.  0.  1.  0. -1. -1.  0.  0.  0.  0.  0.  0.  0.  0.  0.  0.  0.  0.\n",
      "  0.  0.  0.  0.  0.  0.  0.  0.  0.  0. -1. -1.  0. -1.  0.  0. -1.  0.\n",
      "  0.  0.  0.  0.  0.  0. -1.  0.  0. -1.  0.  0.  0.  0.  0.  0.  0.  0.\n",
      "  0.  0.  0.  0.  0. -1.  0.  0. -1.  0.  0.  0.  0.  0.  0.  1.  0. -1.]\n"
     ]
    }
   ],
   "source": [
    "pred = base_model.predict(pca_test)\n",
    "accuracy_score(pred, y_test)\n",
    "print(pred)\n",
    "print(y_test)\n"
   ]
  },
  {
   "cell_type": "code",
   "execution_count": 77,
   "metadata": {},
   "outputs": [
    {
     "data": {
      "image/png": "[encoded data removed]",
      "text/plain": [
       "<Figure size 432x288 with 1 Axes>"
      ]
     },
     "metadata": {
      "needs_background": "light"
     },
     "output_type": "display_data"
    }
   ],
   "source": [
    "import matplotlib.pyplot as plt\n",
    "import numpy as np\n",
    "from scipy.stats import gaussian_kde\n",
    "data = temp_trans[:,1]\n",
    "mx = data.max()\n",
    "mn = data.min()\n",
    "density = gaussian_kde(data)\n",
    "xs = np.arange(mn, mx, 0.1)\n",
    "density.covariance_factor = lambda : .25\n",
    "density._compute_covariance()\n",
    "plt.plot(xs,density(xs))\n",
    "plt.show()"
   ]
  },
  {
   "cell_type": "code",
   "execution_count": 89,
   "metadata": {},
   "outputs": [
    {
     "name": "stdout",
     "output_type": "stream",
     "text": [
      "[0. 0. 0. ... 1. 1. 1.]\n"
     ]
    },
    {
     "data": {
      "text/plain": [
       "{'whiskers': [<matplotlib.lines.Line2D at 0x7fa0d39530b8>,\n",
       "  <matplotlib.lines.Line2D at 0x7fa0d39533c8>],\n",
       " 'caps': [<matplotlib.lines.Line2D at 0x7fa0d3953710>,\n",
       "  <matplotlib.lines.Line2D at 0x7fa0d3953a58>],\n",
       " 'boxes': [<matplotlib.lines.Line2D at 0x7fa0d3966f28>],\n",
       " 'medians': [<matplotlib.lines.Line2D at 0x7fa0d3953da0>],\n",
       " 'fliers': [<matplotlib.lines.Line2D at 0x7fa0d38ec128>],\n",
       " 'means': []}"
      ]
     },
     "execution_count": 89,
     "metadata": {},
     "output_type": "execute_result"
    },
    {
     "data": {
      "image/png": "[encoded data removed]",
      "text/plain": [
       "<Figure size 432x288 with 1 Axes>"
      ]
     },
     "metadata": {
      "needs_background": "light"
     },
     "output_type": "display_data"
    }
   ],
   "source": [
    "print(y_resampled)\n",
    "data = temp_trans[y_resampled == -1, 1]\n",
    "fig1, ax1 = plt.subplots()\n",
    "ax1.set_title('Basic Plot')\n",
    "ax1.boxplot(data)\n"
   ]
  },
  {
   "cell_type": "code",
   "execution_count": 90,
   "metadata": {},
   "outputs": [
    {
     "data": {
      "text/plain": [
       "{'whiskers': [<matplotlib.lines.Line2D at 0x7fa0d3ad7048>,\n",
       "  <matplotlib.lines.Line2D at 0x7fa0d3a6ea20>],\n",
       " 'caps': [<matplotlib.lines.Line2D at 0x7fa0d3a6e588>,\n",
       "  <matplotlib.lines.Line2D at 0x7fa0d3acd5c0>],\n",
       " 'boxes': [<matplotlib.lines.Line2D at 0x7fa0d3ad7518>],\n",
       " 'medians': [<matplotlib.lines.Line2D at 0x7fa0d3acd0b8>],\n",
       " 'fliers': [<matplotlib.lines.Line2D at 0x7fa0d3acdc88>],\n",
       " 'means': []}"
      ]
     },
     "execution_count": 90,
     "metadata": {},
     "output_type": "execute_result"
    },
    {
     "data": {
      "image/png": "[encoded data removed]",
      "text/plain": [
       "<Figure size 432x288 with 1 Axes>"
      ]
     },
     "metadata": {
      "needs_background": "light"
     },
     "output_type": "display_data"
    }
   ],
   "source": [
    "data = temp_trans[y_resampled == 1, 1]\n",
    "fig1, ax1 = plt.subplots()\n",
    "ax1.set_title('Basic Plot')\n",
    "ax1.boxplot(data)"
   ]
  },
  {
   "cell_type": "code",
   "execution_count": 91,
   "metadata": {},
   "outputs": [
    {
     "data": {
      "text/plain": [
       "{'whiskers': [<matplotlib.lines.Line2D at 0x7fa0d3ba5c50>,\n",
       "  <matplotlib.lines.Line2D at 0x7fa0d57dd7f0>],\n",
       " 'caps': [<matplotlib.lines.Line2D at 0x7fa0d57dd898>,\n",
       "  <matplotlib.lines.Line2D at 0x7fa0d3c1d8d0>],\n",
       " 'boxes': [<matplotlib.lines.Line2D at 0x7fa0d3ba5898>],\n",
       " 'medians': [<matplotlib.lines.Line2D at 0x7fa0d3c1deb8>],\n",
       " 'fliers': [<matplotlib.lines.Line2D at 0x7fa0d3c1d4e0>],\n",
       " 'means': []}"
      ]
     },
     "execution_count": 91,
     "metadata": {},
     "output_type": "execute_result"
    },
    {
     "data": {
      "image/png": "[encoded data removed]",
      "text/plain": [
       "<Figure size 432x288 with 1 Axes>"
      ]
     },
     "metadata": {
      "needs_background": "light"
     },
     "output_type": "display_data"
    }
   ],
   "source": [
    "data = temp_trans[y_resampled == 0, 1]\n",
    "fig1, ax1 = plt.subplots()\n",
    "ax1.set_title('Basic Plot')\n",
    "ax1.boxplot(data)"
   ]
  }
 ],
 "metadata": {
  "kernelspec": {
   "display_name": "datathon",
   "language": "python",
   "name": "datathon"
  },
  "language_info": {
   "codemirror_mode": {
    "name": "ipython",
    "version": 3
   },
   "file_extension": ".py",
   "mimetype": "text/x-python",
   "name": "python",
   "nbconvert_exporter": "python",
   "pygments_lexer": "ipython3",
   "version": "3.6.8"
  }
 },
 "nbformat": 4,
 "nbformat_minor": 4
}
