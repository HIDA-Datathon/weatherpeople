{
 "cells": [
  {
   "cell_type": "code",
   "execution_count": 144,
   "metadata": {},
   "outputs": [],
   "source": [
    "import imblearn\n",
    "import random\n",
    "import numpy as np\n",
    "from sklearn.decomposition import PCA\n",
    "from pathlib import Path\n",
    "import pandas as pd\n",
    "from sklearn.preprocessing import KBinsDiscretizer\n",
    "from sklearn.model_selection import train_test_split\n",
    "import matplotlib\n",
    "from imblearn.over_sampling import SMOTE\n",
    "from collections import Counter\n",
    "from sklearn.ensemble import RandomForestClassifier\n",
    "from sklearn.feature_selection import SelectFromModel\n",
    "from sklearn.model_selection import cross_val_score\n",
    "from sklearn.metrics import f1_score\n",
    "from sklearn.metrics import make_scorer\n",
    "import sklearn.metrics\n",
    "from sklearn.metrics import accuracy_score\n",
    "\n",
    "n_comp = 25\n",
    "q = [0, 0.1, 0.9, 1]"
   ]
  },
  {
   "cell_type": "code",
   "execution_count": 145,
   "metadata": {},
   "outputs": [
    {
     "data": {
      "text/plain": [
       "array([-1,  0,  1])"
      ]
     },
     "execution_count": 145,
     "metadata": {},
     "output_type": "execute_result"
    }
   ],
   "source": [
    "y_path = Path.cwd().parent.joinpath(\"Data\", \"Split\", \"train_labels.npy\")\n",
    "y_train = np.load(y_path)\n",
    "bins = np.quantile(y_train, q =  q)\n",
    "y_train = pd.qcut(x=y_train, q= q, labels=[-1, 0, 1])\n",
    "np.unique(y_train)"
   ]
  },
  {
   "cell_type": "code",
   "execution_count": 146,
   "metadata": {},
   "outputs": [],
   "source": [
    "x_path = Path.cwd().parent.joinpath(\"Data\", \"Split\", \"train_features.npy\") #temperature average of autmn per year\n",
    "x_train=np.load(x_path)"
   ]
  },
  {
   "cell_type": "code",
   "execution_count": 147,
   "metadata": {},
   "outputs": [
    {
     "name": "stdout",
     "output_type": "stream",
     "text": [
      "[-1  0  1]\n",
      "[[ 0.51519269  1.13874471  1.33152628 ...  1.58121669  1.64707494\n",
      "   1.71492434]\n",
      " [-0.06682462 -0.46294659 -0.80747449 ... -0.60453928 -0.57841688\n",
      "  -0.55541831]\n",
      " [-0.85686767 -1.24928701 -1.04056776 ...  1.08864331  1.08122003\n",
      "   1.08038592]\n",
      " ...\n",
      " [ 0.66258782  0.38447481 -0.00505118 ...  1.12904131  1.15510249\n",
      "   1.1772933 ]\n",
      " [-1.09121192 -0.07895684  0.2210492  ...  0.13585594  0.11344573\n",
      "   0.08935153]\n",
      " [ 0.93628663  0.60988671  0.02503903 ... -0.85366362 -0.85495549\n",
      "  -0.85414285]]\n"
     ]
    }
   ],
   "source": [
    "# Test\n",
    "print(np.unique(y_train))\n",
    "print(x_train)"
   ]
  },
  {
   "cell_type": "code",
   "execution_count": 149,
   "metadata": {},
   "outputs": [
    {
     "name": "stdout",
     "output_type": "stream",
     "text": [
      "[(-1, 640), (0, 640), (1, 640)]\n"
     ]
    }
   ],
   "source": [
    "random.seed(1234)\n",
    "x_resampled, y_resampled = SMOTE().fit_resample(x_train, y_train)\n",
    "print(sorted(Counter(y_resampled).items()))"
   ]
  },
  {
   "cell_type": "code",
   "execution_count": 150,
   "metadata": {},
   "outputs": [],
   "source": [
    "temp = x_resampled[:, np.arange(0, 2322)]\n",
    "pres = x_resampled[:, np.arange(2322, 4644)]"
   ]
  },
  {
   "cell_type": "code",
   "execution_count": 193,
   "metadata": {},
   "outputs": [
    {
     "name": "stdout",
     "output_type": "stream",
     "text": [
      "[0.31704377 0.17996644 0.07579645 0.06900901 0.06314006]\n",
      "0.7049557361201018\n",
      "[0.15152003 0.09096898 0.08529144 0.06780705 0.06388484]\n",
      "0.4594723395079059\n",
      "(1920, 5)\n",
      "(1920, 5)\n"
     ]
    }
   ],
   "source": [
    "n_comp = 5\n",
    "pca= PCA(n_components=n_comp)\n",
    "temp_trans= pca.fit_transform(temp)\n",
    "sum(pca.explained_variance_ratio_)\n",
    "pca_pres=PCA(n_components=n_comp)\n",
    "pres_trans = pca_pres.fit_transform(pres)\n",
    "print(pca_pres.explained_variance_ratio_)\n",
    "print(pca_pres.explained_variance_ratio_.sum())\n",
    "print(pca.explained_variance_ratio_)\n",
    "print(pca.explained_variance_ratio_.sum())\n",
    "print(pres_trans.shape)\n",
    "print(temp_trans.shape)\n",
    "pca_train = np.concatenate([temp_trans, pres_trans], axis=1)"
   ]
  },
  {
   "cell_type": "code",
   "execution_count": 194,
   "metadata": {},
   "outputs": [],
   "source": [
    "from sklearn.model_selection import RandomizedSearchCV\n",
    "rf = RandomForestClassifier()\n",
    "#n_estimators = [int(x) for x in np.linspace(start = 200, stop = 2000, num = 10)]\n",
    "#random_grid = {'n_estimators': n_estimators}\n",
    "#rf_random = RandomizedSearchCV(estimator = rf, param_distributions = random_grid, \n",
    "#                               n_iter = 10, cv = 3, verbose=2, random_state=42, n_jobs = -1)\n",
    "# rf_random.fit(pca_train, y_resampled)"
   ]
  },
  {
   "cell_type": "code",
   "execution_count": 195,
   "metadata": {},
   "outputs": [
    {
     "name": "stdout",
     "output_type": "stream",
     "text": [
      "500\n"
     ]
    },
    {
     "data": {
      "text/plain": [
       "RandomForestClassifier(n_estimators=500)"
      ]
     },
     "execution_count": 195,
     "metadata": {},
     "output_type": "execute_result"
    }
   ],
   "source": [
    "#n_estimators = rf_random.best_params_['n_estimators']\n",
    "n_estimators = 500\n",
    "print(n_estimators)\n",
    "base_model = RandomForestClassifier(n_estimators = n_estimators)\n",
    "base_model.fit(pca_train, y_resampled)"
   ]
  },
  {
   "cell_type": "code",
   "execution_count": 37,
   "metadata": {},
   "outputs": [
    {
     "data": {
      "text/plain": [
       "array([0.98796296, 0.99814815])"
      ]
     },
     "execution_count": 37,
     "metadata": {},
     "output_type": "execute_result"
    }
   ],
   "source": [
    "#scores=cross_val_score(base_model, pca_train, y_resampled, cv=2,n_jobs=-1)\n",
    "#scores"
   ]
  },
  {
   "cell_type": "code",
   "execution_count": 196,
   "metadata": {},
   "outputs": [],
   "source": [
    "# TEST: \n",
    "y_path = Path.cwd().parent.joinpath(\"Data\", \"Split\", \"test_labels.npy\")\n",
    "y_test=np.load(y_path)\n",
    "y_test = pd.cut(y_test, bins = bins, labels = [-1, 0, 1])\n",
    "x_path = Path.cwd().parent.joinpath(\"Data\", \"Split\", \"test_features.npy\") #temperature average of autmn per year\n",
    "x_test=np.load(x_path)\n",
    "\n",
    "# PCA \n",
    "temp_test = x_test[:, np.arange(0, 2322)]\n",
    "pres_test = x_test[:, np.arange(2322, 4644)]\n",
    "temp_test_tf = pca.transform(temp_test)\n",
    "pres_test_tf = pca_pres.transform(pres_test)\n",
    "pca_test = np.concatenate([temp_test_tf, pres_test_tf], axis=1)"
   ]
  },
  {
   "cell_type": "code",
   "execution_count": 197,
   "metadata": {},
   "outputs": [
    {
     "name": "stdout",
     "output_type": "stream",
     "text": [
      "[ 0  0  0  0  0  0  0  0 -1  0  1  0  1  0  0  1  0  0  1  0  0  0  0  0\n",
      "  0  0  0  0 -1  0  1 -1  0  0  0  0  0  0 -1  1  1  0  0  0 -1  0  1  0\n",
      "  0  0  0 -1  1  1  1  0  1 -1  0  0  0  0  0  0  0  0  1  0  1  0  1  0\n",
      " -1  0  0  0  0  0  0  0  0  0 -1 -1  0  0  0  0  0  0  0  0  0  0  0  0\n",
      "  0  0  0  0]\n",
      "[0, 1, 0, 0, 0, ..., 0, 0, -1, 0, 0]\n",
      "Length: 100\n",
      "Categories (3, int64): [-1 < 0 < 1]\n",
      "0.58\n"
     ]
    }
   ],
   "source": [
    "pred = base_model.predict(pca_test)\n",
    "acc = accuracy_score(pred, y_test)\n",
    "print(pred)\n",
    "print(y_test)\n",
    "print(acc)"
   ]
  },
  {
   "cell_type": "code",
   "execution_count": 22,
   "metadata": {},
   "outputs": [
    {
     "data": {
      "image/png": "[encoded data removed]",
      "text/plain": [
       "<Figure size 432x288 with 1 Axes>"
      ]
     },
     "metadata": {
      "needs_background": "light"
     },
     "output_type": "display_data"
    }
   ],
   "source": [
    "import matplotlib.pyplot as plt\n",
    "import numpy as np\n",
    "from scipy.stats import gaussian_kde\n",
    "data = temp_trans[:,1]\n",
    "mx = data.max()\n",
    "mn = data.min()\n",
    "density = gaussian_kde(data)\n",
    "xs = np.arange(mn, mx, 0.1)\n",
    "density.covariance_factor = lambda : .25\n",
    "density._compute_covariance()\n",
    "plt.plot(xs,density(xs))\n",
    "plt.show()"
   ]
  },
  {
   "cell_type": "code",
   "execution_count": 23,
   "metadata": {},
   "outputs": [
    {
     "name": "stdout",
     "output_type": "stream",
     "text": [
      "[0 0 0 ... 1 1 1]\n"
     ]
    },
    {
     "data": {
      "text/plain": [
       "{'whiskers': [<matplotlib.lines.Line2D at 0x7efc48b02a20>,\n",
       "  <matplotlib.lines.Line2D at 0x7efc48b02d68>],\n",
       " 'caps': [<matplotlib.lines.Line2D at 0x7efc48b0d0f0>,\n",
       "  <matplotlib.lines.Line2D at 0x7efc48b0d438>],\n",
       " 'boxes': [<matplotlib.lines.Line2D at 0x7efc48b02860>],\n",
       " 'medians': [<matplotlib.lines.Line2D at 0x7efc48b0d780>],\n",
       " 'fliers': [<matplotlib.lines.Line2D at 0x7efc48b0dac8>],\n",
       " 'means': []}"
      ]
     },
     "execution_count": 23,
     "metadata": {},
     "output_type": "execute_result"
    },
    {
     "data": {
      "image/png": "[encoded data removed]",
      "text/plain": [
       "<Figure size 432x288 with 1 Axes>"
      ]
     },
     "metadata": {
      "needs_background": "light"
     },
     "output_type": "display_data"
    }
   ],
   "source": [
    "print(y_resampled)\n",
    "data = temp_trans[y_resampled == -1, 1]\n",
    "fig1, ax1 = plt.subplots()\n",
    "ax1.set_title('Basic Plot')\n",
    "ax1.boxplot(data)\n"
   ]
  },
  {
   "cell_type": "code",
   "execution_count": 24,
   "metadata": {},
   "outputs": [
    {
     "data": {
      "text/plain": [
       "{'whiskers': [<matplotlib.lines.Line2D at 0x7efc48ad3f28>,\n",
       "  <matplotlib.lines.Line2D at 0x7efc48adc2b0>],\n",
       " 'caps': [<matplotlib.lines.Line2D at 0x7efc48adc5f8>,\n",
       "  <matplotlib.lines.Line2D at 0x7efc48adc940>],\n",
       " 'boxes': [<matplotlib.lines.Line2D at 0x7efc48ad3dd8>],\n",
       " 'medians': [<matplotlib.lines.Line2D at 0x7efc48adcc88>],\n",
       " 'fliers': [<matplotlib.lines.Line2D at 0x7efc48adcfd0>],\n",
       " 'means': []}"
      ]
     },
     "execution_count": 24,
     "metadata": {},
     "output_type": "execute_result"
    },
    {
     "data": {
      "image/png": "[encoded data removed]",
      "text/plain": [
       "<Figure size 432x288 with 1 Axes>"
      ]
     },
     "metadata": {
      "needs_background": "light"
     },
     "output_type": "display_data"
    }
   ],
   "source": [
    "data = temp_trans[y_resampled == 1, 1]\n",
    "fig1, ax1 = plt.subplots()\n",
    "ax1.set_title('Basic Plot')\n",
    "ax1.boxplot(data)"
   ]
  },
  {
   "cell_type": "code",
   "execution_count": 25,
   "metadata": {},
   "outputs": [
    {
     "data": {
      "text/plain": [
       "{'whiskers': [<matplotlib.lines.Line2D at 0x7efc48a9fc88>,\n",
       "  <matplotlib.lines.Line2D at 0x7efc48a9ffd0>],\n",
       " 'caps': [<matplotlib.lines.Line2D at 0x7efc48aa7358>,\n",
       "  <matplotlib.lines.Line2D at 0x7efc48aa76a0>],\n",
       " 'boxes': [<matplotlib.lines.Line2D at 0x7efc48a9fb38>],\n",
       " 'medians': [<matplotlib.lines.Line2D at 0x7efc48aa79e8>],\n",
       " 'fliers': [<matplotlib.lines.Line2D at 0x7efc48aa7d30>],\n",
       " 'means': []}"
      ]
     },
     "execution_count": 25,
     "metadata": {},
     "output_type": "execute_result"
    },
    {
     "data": {
      "image/png": "[encoded data removed]",
      "text/plain": [
       "<Figure size 432x288 with 1 Axes>"
      ]
     },
     "metadata": {
      "needs_background": "light"
     },
     "output_type": "display_data"
    }
   ],
   "source": [
    "data = temp_trans[y_resampled == 0, 1]\n",
    "fig1, ax1 = plt.subplots()\n",
    "ax1.set_title('Basic Plot')\n",
    "ax1.boxplot(data)"
   ]
  }
 ],
 "metadata": {
  "kernelspec": {
   "display_name": "datathon",
   "language": "python",
   "name": "datathon"
  },
  "language_info": {
   "codemirror_mode": {
    "name": "ipython",
    "version": 3
   },
   "file_extension": ".py",
   "mimetype": "text/x-python",
   "name": "python",
   "nbconvert_exporter": "python",
   "pygments_lexer": "ipython3",
   "version": "3.6.8"
  }
 },
 "nbformat": 4,
 "nbformat_minor": 4
}
